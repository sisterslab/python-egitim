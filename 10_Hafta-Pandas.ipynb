{
 "cells": [
  {
   "cell_type": "markdown",
   "metadata": {},
   "source": [
    "**Pandas**\n",
    "\n",
    "* Numpy'ın sütun adları ve homojen olmayan verilerle çalışamama gibi eksik kaldığı kısımlara çözüm getiren, yüksek performanslı, veri analiz araçları sağlayan açık kaynak kodlu bir kütphanedir.\n",
    "\n",
    "* .csv ve .txt dosyalarını açmak ve verileri işlememizi sağlar\n",
    "\n",
    "* Pandas ile veri analizi yaparken kullanacağımız temel veri yapıları Seriler ve DataFrame'ler"
   ]
  },
  {
   "cell_type": "markdown",
   "metadata": {},
   "source": [
    "**Pandas Seriler**\n",
    "\n",
    "Seriler Numpy dizileri baz alınarak oluşturulmuştur. Herhangi bir veri tipinde veri tutabilen tek boyutlu etiketli bir dizidir. Excelin bir sütunu olarak düşünebilirsiniz.\n",
    "\n",
    "pip install pandas ile kurulumu yapılır.\n",
    "\n",
    "pd.Series(data, index)"
   ]
  },
  {
   "cell_type": "code",
   "execution_count": 3,
   "metadata": {},
   "outputs": [],
   "source": [
    "import pandas as pd"
   ]
  },
  {
   "cell_type": "code",
   "execution_count": 4,
   "metadata": {},
   "outputs": [
    {
     "name": "stderr",
     "output_type": "stream",
     "text": [
      "C:\\Users\\TCAYSAYDIN\\AppData\\Local\\Temp\\ipykernel_7152\\4291955784.py:2: DeprecationWarning: The default dtype for empty Series will be 'object' instead of 'float64' in a future version. Specify a dtype explicitly to silence this warning.\n",
      "  seri = pd.Series()\n"
     ]
    },
    {
     "data": {
      "text/plain": [
       "Series([], dtype: float64)"
      ]
     },
     "execution_count": 4,
     "metadata": {},
     "output_type": "execute_result"
    }
   ],
   "source": [
    "#Empty Series\n",
    "seri = pd.Series()\n",
    "\n",
    "seri"
   ]
  },
  {
   "cell_type": "code",
   "execution_count": 5,
   "metadata": {},
   "outputs": [
    {
     "data": {
      "text/plain": [
       "elma        120\n",
       "kavun       340\n",
       "çikolata    456\n",
       "dondurma    256\n",
       "dtype: int64"
      ]
     },
     "execution_count": 5,
     "metadata": {},
     "output_type": "execute_result"
    }
   ],
   "source": [
    "calories = pd.Series([120, 340, 456, 256], [\"elma\", \"kavun\", \"çikolata\", \"dondurma\"])\n",
    "\n",
    "calories"
   ]
  },
  {
   "cell_type": "code",
   "execution_count": 6,
   "metadata": {},
   "outputs": [
    {
     "name": "stdout",
     "output_type": "stream",
     "text": [
      "Data:  [120 340 456 256]\n",
      "Index:  Index(['elma', 'kavun', 'çikolata', 'dondurma'], dtype='object')\n"
     ]
    }
   ],
   "source": [
    "print(\"Data: \", calories.values)\n",
    "print(\"Index: \", calories.index)"
   ]
  },
  {
   "cell_type": "code",
   "execution_count": 7,
   "metadata": {},
   "outputs": [
    {
     "name": "stdout",
     "output_type": "stream",
     "text": [
      "Şekli:  (4,)\n",
      "Boyutu:  1\n",
      "Eleman sayısı:  4\n"
     ]
    }
   ],
   "source": [
    "print(\"Şekli: \", calories.shape)\n",
    "print(\"Boyutu: \", calories.ndim)\n",
    "print(\"Eleman sayısı: \", calories.size)"
   ]
  },
  {
   "cell_type": "markdown",
   "metadata": {},
   "source": [
    "bir indeksin olup olmadığını in komutu ile kontrol edebiliriz"
   ]
  },
  {
   "cell_type": "code",
   "execution_count": 11,
   "metadata": {},
   "outputs": [
    {
     "name": "stdout",
     "output_type": "stream",
     "text": [
      "Armut seriye dahil değil\n",
      "Dondurma seriye dahil\n",
      "True\n"
     ]
    }
   ],
   "source": [
    "if \"armut\" not in calories:\n",
    "    print(\"Armut seriye dahil değil\")\n",
    "\n",
    "if \"dondurma\" in calories:\n",
    "    print(\"Dondurma seriye dahil\")\n",
    "\n",
    "print(\"armut\" not in calories)"
   ]
  },
  {
   "cell_type": "markdown",
   "metadata": {},
   "source": [
    "Dictionary'i seri olarak kullanalım"
   ]
  },
  {
   "cell_type": "code",
   "execution_count": 12,
   "metadata": {},
   "outputs": [
    {
     "data": {
      "text/plain": [
       "Türkiye    Ankara\n",
       "Fransa      Paris\n",
       "Almanya    Berlin\n",
       "İtalya       Roma\n",
       "dtype: object"
      ]
     },
     "execution_count": 12,
     "metadata": {},
     "output_type": "execute_result"
    }
   ],
   "source": [
    "capitals_dict = {\"Türkiye\":\"Ankara\", \"Fransa\":\"Paris\", \"Almanya\":\"Berlin\", \"İtalya\":\"Roma\"}\n",
    "\n",
    "capitals = pd.Series(capitals_dict)\n",
    "\n",
    "capitals"
   ]
  },
  {
   "cell_type": "markdown",
   "metadata": {},
   "source": [
    "Bir liste tanımı üzerinden seri oluşturma"
   ]
  },
  {
   "cell_type": "code",
   "execution_count": 13,
   "metadata": {},
   "outputs": [
    {
     "data": {
      "text/plain": [
       "0    Python\n",
       "1        C#\n",
       "2    Kotlin\n",
       "3      Java\n",
       "4      Dart\n",
       "dtype: object"
      ]
     },
     "execution_count": 13,
     "metadata": {},
     "output_type": "execute_result"
    }
   ],
   "source": [
    "languages_list = [\"Python\", \"C#\", \"Kotlin\", \"Java\", \"Dart\"]\n",
    "\n",
    "languages = pd.Series(languages_list)\n",
    "\n",
    "languages"
   ]
  },
  {
   "cell_type": "markdown",
   "metadata": {},
   "source": [
    "Bir Numpy dizisi üzerinden seri oluşturma"
   ]
  },
  {
   "cell_type": "code",
   "execution_count": 17,
   "metadata": {},
   "outputs": [],
   "source": [
    "import pandas as pd\n",
    "import numpy as np"
   ]
  },
  {
   "cell_type": "code",
   "execution_count": 18,
   "metadata": {},
   "outputs": [
    {
     "data": {
      "text/plain": [
       "0    The Big Bang Theory\n",
       "1             The Office\n",
       "2             Doctor Who\n",
       "3                Friends\n",
       "Name: Diziler, dtype: object"
      ]
     },
     "execution_count": 18,
     "metadata": {},
     "output_type": "execute_result"
    }
   ],
   "source": [
    "nd_array = np.array([\"The Big Bang Theory\", \"The Office\", \"Doctor Who\", \"Friends\"])\n",
    "\n",
    "movies = pd.Series(nd_array, name=\"Diziler\")\n",
    "\n",
    "movies"
   ]
  },
  {
   "cell_type": "code",
   "execution_count": 19,
   "metadata": {},
   "outputs": [
    {
     "data": {
      "text/plain": [
       "0     1.0\n",
       "1     8.4\n",
       "2    15.8\n",
       "3    23.2\n",
       "4    30.6\n",
       "5    38.0\n",
       "dtype: float64"
      ]
     },
     "execution_count": 19,
     "metadata": {},
     "output_type": "execute_result"
    }
   ],
   "source": [
    "seri = pd.Series(np.linspace(1, 38, 6))\n",
    "\n",
    "seri"
   ]
  },
  {
   "cell_type": "markdown",
   "metadata": {},
   "source": [
    "Comprehension [i for i in liste if ...]"
   ]
  },
  {
   "cell_type": "code",
   "execution_count": 24,
   "metadata": {},
   "outputs": [
    {
     "data": {
      "text/plain": [
       "A     1\n",
       "B     6\n",
       "C    11\n",
       "D    16\n",
       "E    21\n",
       "F    26\n",
       "dtype: int64"
      ]
     },
     "execution_count": 24,
     "metadata": {},
     "output_type": "execute_result"
    }
   ],
   "source": [
    "my_list = range(1, 30, 5)\n",
    "\n",
    "seri = pd.Series(my_list, index=[i for i in \"ABCDEF\"])\n",
    "\n",
    "seri"
   ]
  },
  {
   "cell_type": "markdown",
   "metadata": {},
   "source": [
    "Serilere Erişim"
   ]
  },
  {
   "cell_type": "code",
   "execution_count": 28,
   "metadata": {},
   "outputs": [
    {
     "name": "stdout",
     "output_type": "stream",
     "text": [
      "0    A\n",
      "1    B\n",
      "2    C\n",
      "3    D\n",
      "4    E\n",
      "5    F\n",
      "dtype: object\n",
      "D\n"
     ]
    }
   ],
   "source": [
    "seri = pd.Series([i for i in \"ABCDEF\"])\n",
    "\n",
    "print(seri)\n",
    "print(seri[3])"
   ]
  },
  {
   "cell_type": "code",
   "execution_count": 33,
   "metadata": {},
   "outputs": [
    {
     "name": "stdout",
     "output_type": "stream",
     "text": [
      "A     1\n",
      "B     6\n",
      "C    11\n",
      "D    16\n",
      "E    21\n",
      "F    26\n",
      "dtype: int64\n",
      "16\n"
     ]
    }
   ],
   "source": [
    "seri = pd.Series(range(1, 30, 5), index=[i for i in \"ABCDEF\"])\n",
    "\n",
    "print(seri)\n",
    "print(seri[\"D\"])"
   ]
  },
  {
   "cell_type": "code",
   "execution_count": 34,
   "metadata": {},
   "outputs": [
    {
     "data": {
      "text/plain": [
       "16"
      ]
     },
     "execution_count": 34,
     "metadata": {},
     "output_type": "execute_result"
    }
   ],
   "source": [
    "seri.iloc[3]"
   ]
  },
  {
   "cell_type": "code",
   "execution_count": 36,
   "metadata": {},
   "outputs": [
    {
     "data": {
      "text/plain": [
       "16"
      ]
     },
     "execution_count": 36,
     "metadata": {},
     "output_type": "execute_result"
    }
   ],
   "source": [
    "seri.loc[\"D\"]"
   ]
  },
  {
   "cell_type": "code",
   "execution_count": 38,
   "metadata": {},
   "outputs": [
    {
     "data": {
      "text/plain": [
       "A     1\n",
       "E    21\n",
       "dtype: int64"
      ]
     },
     "execution_count": 38,
     "metadata": {},
     "output_type": "execute_result"
    }
   ],
   "source": [
    "seri.loc[[\"A\", \"E\"]]"
   ]
  },
  {
   "cell_type": "code",
   "execution_count": 39,
   "metadata": {},
   "outputs": [
    {
     "data": {
      "text/plain": [
       "A     1\n",
       "E    21\n",
       "dtype: int64"
      ]
     },
     "execution_count": 39,
     "metadata": {},
     "output_type": "execute_result"
    }
   ],
   "source": [
    "seri[[\"A\", \"E\"]]"
   ]
  },
  {
   "cell_type": "code",
   "execution_count": 40,
   "metadata": {},
   "outputs": [
    {
     "data": {
      "text/plain": [
       "A     1\n",
       "B     6\n",
       "C    11\n",
       "D    16\n",
       "E    21\n",
       "dtype: int64"
      ]
     },
     "execution_count": 40,
     "metadata": {},
     "output_type": "execute_result"
    }
   ],
   "source": [
    "seri[\"A\":\"E\"]"
   ]
  },
  {
   "cell_type": "code",
   "execution_count": 52,
   "metadata": {},
   "outputs": [
    {
     "data": {
      "text/plain": [
       "elma        120\n",
       "kavun        90\n",
       "çikolata    456\n",
       "dondurma    256\n",
       "dtype: int64"
      ]
     },
     "execution_count": 52,
     "metadata": {},
     "output_type": "execute_result"
    }
   ],
   "source": [
    "calories = pd.Series([120, 90, 456, 256], [\"elma\", \"kavun\", \"çikolata\", \"dondurma\"])\n",
    "\n",
    "calories"
   ]
  },
  {
   "cell_type": "code",
   "execution_count": 45,
   "metadata": {},
   "outputs": [
    {
     "name": "stdout",
     "output_type": "stream",
     "text": [
      "elma        False\n",
      "kavun        True\n",
      "çikolata     True\n",
      "dondurma    False\n",
      "dtype: bool\n",
      "\n",
      "\n",
      " kavun       340\n",
      "çikolata    456\n",
      "dtype: int64\n"
     ]
    }
   ],
   "source": [
    "#kalorisi 150 den büyük olanları getir\n",
    "\n",
    "print(calories > 260)\n",
    "\n",
    "print(\"\\n\\n\", calories[calories > 260])"
   ]
  },
  {
   "cell_type": "code",
   "execution_count": 46,
   "metadata": {},
   "outputs": [
    {
     "data": {
      "text/plain": [
       "293.0"
      ]
     },
     "execution_count": 46,
     "metadata": {},
     "output_type": "execute_result"
    }
   ],
   "source": [
    "calories.mean()"
   ]
  },
  {
   "cell_type": "code",
   "execution_count": 48,
   "metadata": {},
   "outputs": [
    {
     "data": {
      "text/plain": [
       "dondurma    256\n",
       "dtype: int64"
      ]
     },
     "execution_count": 48,
     "metadata": {},
     "output_type": "execute_result"
    }
   ],
   "source": [
    "calories[(calories < calories.mean()) & (calories > 150)]"
   ]
  },
  {
   "cell_type": "markdown",
   "metadata": {},
   "source": [
    "Serinin değerlerini değiştirme -> seride istediğimiz değerleri indexle erişip değiştirebiliriz."
   ]
  },
  {
   "cell_type": "code",
   "execution_count": 49,
   "metadata": {},
   "outputs": [],
   "source": [
    "calories[\"elma\"] = 160"
   ]
  },
  {
   "cell_type": "code",
   "execution_count": 50,
   "metadata": {},
   "outputs": [
    {
     "data": {
      "text/plain": [
       "elma        160\n",
       "dondurma    256\n",
       "dtype: int64"
      ]
     },
     "execution_count": 50,
     "metadata": {},
     "output_type": "execute_result"
    }
   ],
   "source": [
    "calories[(calories < calories.mean()) & (calories > 150)]"
   ]
  },
  {
   "cell_type": "markdown",
   "metadata": {},
   "source": [
    "kalorisi 150 den küçük olanları 160 olarak değiştir"
   ]
  },
  {
   "cell_type": "code",
   "execution_count": 55,
   "metadata": {},
   "outputs": [
    {
     "data": {
      "text/plain": [
       "elma        160\n",
       "kavun       160\n",
       "çikolata    456\n",
       "dondurma    256\n",
       "dtype: int64"
      ]
     },
     "execution_count": 55,
     "metadata": {},
     "output_type": "execute_result"
    }
   ],
   "source": [
    "calories[calories < 150] = 160\n",
    "\n",
    "calories"
   ]
  },
  {
   "cell_type": "markdown",
   "metadata": {},
   "source": [
    "Seriler üzerinde toplama çıkarma "
   ]
  },
  {
   "cell_type": "code",
   "execution_count": 62,
   "metadata": {},
   "outputs": [
    {
     "data": {
      "text/plain": [
       "a     6.0\n",
       "b     NaN\n",
       "c     NaN\n",
       "d    12.0\n",
       "e     NaN\n",
       "f     NaN\n",
       "dtype: float64"
      ]
     },
     "execution_count": 62,
     "metadata": {},
     "output_type": "execute_result"
    }
   ],
   "source": [
    "seri = pd.Series([1,2,3,4], index=[i for i in \"abcd\"])\n",
    "seri2 = pd.Series([5,6,7,8], index=[i for i in \"aefd\"])\n",
    "\n",
    "seri.add(seri2)"
   ]
  },
  {
   "cell_type": "code",
   "execution_count": 63,
   "metadata": {},
   "outputs": [
    {
     "data": {
      "text/plain": [
       "a     6.0\n",
       "b     2.0\n",
       "c     3.0\n",
       "d    12.0\n",
       "e     6.0\n",
       "f     7.0\n",
       "dtype: float64"
      ]
     },
     "execution_count": 63,
     "metadata": {},
     "output_type": "execute_result"
    }
   ],
   "source": [
    "seri.add(seri2, fill_value=0)"
   ]
  },
  {
   "cell_type": "code",
   "execution_count": 66,
   "metadata": {},
   "outputs": [
    {
     "data": {
      "text/plain": [
       "a   -4.0\n",
       "b    2.0\n",
       "c    3.0\n",
       "d   -4.0\n",
       "e   -6.0\n",
       "f   -7.0\n",
       "dtype: float64"
      ]
     },
     "execution_count": 66,
     "metadata": {},
     "output_type": "execute_result"
    }
   ],
   "source": [
    "seri.sub(seri2, fill_value=0)"
   ]
  },
  {
   "cell_type": "markdown",
   "metadata": {},
   "source": [
    "Serilerde Dönüştürme(conversion) işlemi\n",
    "\n",
    ".astype ve .tolist"
   ]
  },
  {
   "cell_type": "code",
   "execution_count": 72,
   "metadata": {},
   "outputs": [
    {
     "name": "stdout",
     "output_type": "stream",
     "text": [
      "orijinal hali:\n",
      " 0    1\n",
      "1    2\n",
      "2    3\n",
      "3    4\n",
      "4    5\n",
      "5    6\n",
      "6    7\n",
      "dtype: int64\n",
      "\n",
      "Değiştirilmiş hali:\n",
      " 0    1.0\n",
      "1    2.0\n",
      "2    3.0\n",
      "3    4.0\n",
      "4    5.0\n",
      "5    6.0\n",
      "6    7.0\n",
      "dtype: float64\n"
     ]
    }
   ],
   "source": [
    "num = pd.Series([1,2,3,4,5,6,7])\n",
    "print(\"orijinal hali:\\n\", num)\n",
    "\n",
    "num = num.astype(float)\n",
    "print(\"\\nDeğiştirilmiş hali:\\n\", num)"
   ]
  },
  {
   "cell_type": "code",
   "execution_count": 74,
   "metadata": {},
   "outputs": [
    {
     "name": "stdout",
     "output_type": "stream",
     "text": [
      "0    1.0\n",
      "1    2.0\n",
      "2    3.0\n",
      "3    4.0\n",
      "4    5.0\n",
      "5    6.0\n",
      "6    7.0\n",
      "dtype: float64\n",
      "[1.0, 2.0, 3.0, 4.0, 5.0, 6.0, 7.0]\n"
     ]
    }
   ],
   "source": [
    "print(num)\n",
    "\n",
    "num_list = num.tolist()\n",
    "print(num_list)"
   ]
  }
 ],
 "metadata": {
  "kernelspec": {
   "display_name": "Python 3.8.5 ('base')",
   "language": "python",
   "name": "python3"
  },
  "language_info": {
   "codemirror_mode": {
    "name": "ipython",
    "version": 3
   },
   "file_extension": ".py",
   "mimetype": "text/x-python",
   "name": "python",
   "nbconvert_exporter": "python",
   "pygments_lexer": "ipython3",
   "version": "3.8.5"
  },
  "orig_nbformat": 4,
  "vscode": {
   "interpreter": {
    "hash": "85849ef95885899d47daeff0f578b9f8af82a26ba4d539bff16a3c227f835db9"
   }
  }
 },
 "nbformat": 4,
 "nbformat_minor": 2
}
