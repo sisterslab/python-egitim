{
 "cells": [
  {
   "cell_type": "markdown",
   "metadata": {},
   "source": [
    "**Numpy**\n",
    "\n",
    "* Numpy -> Numeric Python\n",
    "* Listelerden 50 kata kadar daha hızlı\n",
    "* Çok boyutlu arrayler ve matrisler üzerinde yüksek performanslı çalışma imkanı sağlar.\n",
    "* veri tipleri homoje yapıda olmalıdır. Tüm elemanlar aynı veri tipinde olmalı\n",
    "* Numpy dizilerinin veri tipi ndarray dir\n"
   ]
  },
  {
   "cell_type": "markdown",
   "metadata": {},
   "source": [
    "pip install numpy"
   ]
  },
  {
   "cell_type": "markdown",
   "metadata": {},
   "source": [
    "np.__version__"
   ]
  },
  {
   "cell_type": "code",
   "execution_count": 13,
   "metadata": {},
   "outputs": [],
   "source": [
    "import numpy as np"
   ]
  },
  {
   "cell_type": "code",
   "execution_count": 3,
   "metadata": {},
   "outputs": [
    {
     "name": "stdout",
     "output_type": "stream",
     "text": [
      "[1 2 3 4 6 7 8]\n"
     ]
    }
   ],
   "source": [
    "nd = np.array([1,2,3,4,6,7,8]) #list\n",
    "\n",
    "print(nd)"
   ]
  },
  {
   "cell_type": "code",
   "execution_count": 4,
   "metadata": {},
   "outputs": [
    {
     "name": "stdout",
     "output_type": "stream",
     "text": [
      "<class 'numpy.ndarray'>\n"
     ]
    }
   ],
   "source": [
    "print(type(nd))"
   ]
  },
  {
   "cell_type": "code",
   "execution_count": 5,
   "metadata": {},
   "outputs": [
    {
     "name": "stdout",
     "output_type": "stream",
     "text": [
      "[1 2 3 4 6 7 8]\n"
     ]
    }
   ],
   "source": [
    "nd = np.array((1,2,3,4,6,7,8)) #tuple\n",
    "\n",
    "print(nd)"
   ]
  },
  {
   "cell_type": "markdown",
   "metadata": {},
   "source": [
    "O Boyutlu Diziler"
   ]
  },
  {
   "cell_type": "code",
   "execution_count": 6,
   "metadata": {},
   "outputs": [
    {
     "name": "stdout",
     "output_type": "stream",
     "text": [
      "48\n"
     ]
    }
   ],
   "source": [
    "nd = np.array(48)\n",
    "\n",
    "print(nd)"
   ]
  },
  {
   "cell_type": "markdown",
   "metadata": {},
   "source": [
    "1-D diziler"
   ]
  },
  {
   "cell_type": "code",
   "execution_count": 7,
   "metadata": {},
   "outputs": [
    {
     "name": "stdout",
     "output_type": "stream",
     "text": [
      "[1 2 3 4 6 7 8]\n"
     ]
    }
   ],
   "source": [
    "nd = np.array([1,2,3,4,6,7,8])\n",
    "\n",
    "print(nd)"
   ]
  },
  {
   "cell_type": "markdown",
   "metadata": {},
   "source": [
    "2-D diziler"
   ]
  },
  {
   "cell_type": "code",
   "execution_count": 8,
   "metadata": {},
   "outputs": [
    {
     "name": "stdout",
     "output_type": "stream",
     "text": [
      "[[1 2 3 4 6 7 8]\n",
      " [1 2 3 4 6 7 8]]\n"
     ]
    }
   ],
   "source": [
    "nd_2d = np.array([[1,2,3,4,6,7,8], [1,2,3,4,6,7,8]])\n",
    "\n",
    "print(nd_2d)"
   ]
  },
  {
   "cell_type": "markdown",
   "metadata": {},
   "source": [
    "3-D Diziler"
   ]
  },
  {
   "cell_type": "code",
   "execution_count": 9,
   "metadata": {},
   "outputs": [
    {
     "name": "stdout",
     "output_type": "stream",
     "text": [
      "[[[1 2 3 4 6 7 8]\n",
      "  [1 2 3 4 6 7 8]]\n",
      "\n",
      " [[1 2 3 4 6 7 8]\n",
      "  [1 2 3 4 6 7 8]]]\n"
     ]
    }
   ],
   "source": [
    "nd_3d = np.array([[[1,2,3,4,6,7,8], [1,2,3,4,6,7,8]], [[1,2,3,4,6,7,8], [1,2,3,4,6,7,8]]])\n",
    "\n",
    "print(nd_3d)"
   ]
  },
  {
   "cell_type": "markdown",
   "metadata": {},
   "source": [
    "Boyut bulma -> ndim"
   ]
  },
  {
   "cell_type": "code",
   "execution_count": 8,
   "metadata": {},
   "outputs": [
    {
     "name": "stdout",
     "output_type": "stream",
     "text": [
      "1\n",
      "2\n",
      "3\n"
     ]
    }
   ],
   "source": [
    "nd = np.array([1,2,3,4,6,7,8])\n",
    "nd_2d = np.array([[1,2,3,4,6,7,8], [1,2,3,4,6,7,8]])\n",
    "nd_3d = np.array([[[1,2,3,4,6,7,8], [1,2,3,4,6,7,8]], [[1,2,3,4,6,7,8], [1,2,3,4,6,7,8]]])\n",
    "\n",
    "\n",
    "print(nd.ndim)\n",
    "print(nd_2d.ndim)\n",
    "print(nd_3d.ndim)"
   ]
  },
  {
   "cell_type": "code",
   "execution_count": 9,
   "metadata": {},
   "outputs": [
    {
     "name": "stdout",
     "output_type": "stream",
     "text": [
      "[[1 2 3]]\n",
      "2\n"
     ]
    }
   ],
   "source": [
    "nd = np.array([1,2,3], ndmin=2)\n",
    "\n",
    "print(nd)\n",
    "print(nd.ndim)"
   ]
  },
  {
   "cell_type": "markdown",
   "metadata": {},
   "source": [
    "shape -> dizinin satır sütun sayısını verir"
   ]
  },
  {
   "cell_type": "code",
   "execution_count": 10,
   "metadata": {},
   "outputs": [
    {
     "name": "stdout",
     "output_type": "stream",
     "text": [
      "1 boyutlu dizi   (5,)\n",
      "2 boyutlu dizi   (2, 6)\n"
     ]
    }
   ],
   "source": [
    "nd = np.array([1,0,3,4,8])\n",
    "nd_2d = np.array([[1,2,0,3,4,6], [4,5,7,8,4,9]])\n",
    "\n",
    "print(\"1 boyutlu dizi  \",nd.shape)\n",
    "print(\"2 boyutlu dizi  \",nd_2d.shape)"
   ]
  },
  {
   "cell_type": "markdown",
   "metadata": {},
   "source": [
    ".reshape() -> dizinin satır ve sütun değerlerini değiştirir"
   ]
  },
  {
   "cell_type": "code",
   "execution_count": 24,
   "metadata": {},
   "outputs": [
    {
     "name": "stdout",
     "output_type": "stream",
     "text": [
      "(10,)\n",
      "\n",
      "2X5\n",
      "[[ 1  2  3  4  5]\n",
      " [ 6  7  8  9 10]]\n",
      "\n",
      "5X2\n",
      "[[ 1  2]\n",
      " [ 3  4]\n",
      " [ 5  6]\n",
      " [ 7  8]\n",
      " [ 9 10]]\n"
     ]
    }
   ],
   "source": [
    "nd = np.array([1,2,3,4,5,6,7,8,9,10])\n",
    "\n",
    "print(nd.shape)\n",
    "print(\"\\n2X5\")\n",
    "print(nd.reshape(2, 5))\n",
    "print(\"\\n5X2\")\n",
    "print(nd.reshape(5, 2))"
   ]
  },
  {
   "cell_type": "markdown",
   "metadata": {},
   "source": [
    "np.arange()\n",
    "\n",
    "[start, end, step]"
   ]
  },
  {
   "cell_type": "code",
   "execution_count": 25,
   "metadata": {},
   "outputs": [
    {
     "name": "stdout",
     "output_type": "stream",
     "text": [
      "[0 2 4 6 8]\n"
     ]
    }
   ],
   "source": [
    "nd = np.arange(0,10,2)\n",
    "\n",
    "print(nd)"
   ]
  },
  {
   "cell_type": "markdown",
   "metadata": {},
   "source": [
    "**Dizi elemanlarına erişim**"
   ]
  },
  {
   "cell_type": "code",
   "execution_count": 11,
   "metadata": {},
   "outputs": [
    {
     "name": "stdout",
     "output_type": "stream",
     "text": [
      "[0 3 6 9]\n",
      "6\n"
     ]
    }
   ],
   "source": [
    "#1-D dizilerde erişim\n",
    "nd = np.arange(0,11,3)\n",
    "\n",
    "print(nd)\n",
    "print(nd[2])"
   ]
  },
  {
   "cell_type": "code",
   "execution_count": 31,
   "metadata": {},
   "outputs": [
    {
     "name": "stdout",
     "output_type": "stream",
     "text": [
      "[[1 2 0 3 4 6]\n",
      " [4 5 7 8 4 9]]\n",
      "9\n",
      "9\n"
     ]
    }
   ],
   "source": [
    "#2-D dizilerde erişim\n",
    "nd_2d = np.array([[1,2,0,3,4,6], [4,5,7,8,4,9]])\n",
    "\n",
    "print(nd_2d)\n",
    "\n",
    "#9 elemanına erişim\n",
    "print(nd_2d[1, 5])\n",
    "\n",
    "#negatif indexleme\n",
    "print(nd_2d[1, -1])"
   ]
  },
  {
   "cell_type": "code",
   "execution_count": 33,
   "metadata": {},
   "outputs": [
    {
     "name": "stdout",
     "output_type": "stream",
     "text": [
      "[[[1 2 3]\n",
      "  [4 6 7]]\n",
      "\n",
      " [[3 4 6]\n",
      "  [6 7 8]]]\n",
      "7\n"
     ]
    }
   ],
   "source": [
    "#3-D dizilerde erişim\n",
    "nd_3d = np.array([[[1,2,3], [4,6,7]], [[3,4,6], [6,7,8]]])\n",
    "\n",
    "print(nd_3d)\n",
    "print(nd_3d[0, 1, 2])"
   ]
  },
  {
   "cell_type": "markdown",
   "metadata": {},
   "source": [
    "NumPy Slicing\n",
    "\n",
    "[start, end, step]"
   ]
  },
  {
   "cell_type": "code",
   "execution_count": 34,
   "metadata": {},
   "outputs": [
    {
     "name": "stdout",
     "output_type": "stream",
     "text": [
      "[1 2 3 4]\n"
     ]
    }
   ],
   "source": [
    "nd = np.array([1,2,3,4,5,6,7,8,9,10])\n",
    "\n",
    "print(nd[:4])"
   ]
  },
  {
   "cell_type": "code",
   "execution_count": 37,
   "metadata": {},
   "outputs": [
    {
     "name": "stdout",
     "output_type": "stream",
     "text": [
      "[[2 0 3]\n",
      " [5 7 8]]\n"
     ]
    }
   ],
   "source": [
    "nd_2d = np.array([[1,2,0,3,4,6], [4,5,7,8,4,9], [3,5,6,8,9,0]])\n",
    "\n",
    "print(nd_2d[0:2, 1:4])"
   ]
  },
  {
   "cell_type": "code",
   "execution_count": 38,
   "metadata": {},
   "outputs": [
    {
     "name": "stdout",
     "output_type": "stream",
     "text": [
      "int32\n"
     ]
    }
   ],
   "source": [
    "print(nd_2d.dtype)"
   ]
  },
  {
   "cell_type": "markdown",
   "metadata": {},
   "source": [
    "0 matrisi oluşturma -> np.zeros()"
   ]
  },
  {
   "cell_type": "code",
   "execution_count": 43,
   "metadata": {},
   "outputs": [
    {
     "name": "stdout",
     "output_type": "stream",
     "text": [
      "[[0. 0. 0. 0. 0.]\n",
      " [0. 0. 0. 0. 0.]\n",
      " [0. 0. 0. 0. 0.]\n",
      " [0. 0. 0. 0. 0.]]\n"
     ]
    }
   ],
   "source": [
    "print(np.zeros((4, 5)))"
   ]
  },
  {
   "cell_type": "markdown",
   "metadata": {},
   "source": [
    "np.ones() -> 1 lerden oluşan bir matris döner"
   ]
  },
  {
   "cell_type": "code",
   "execution_count": 44,
   "metadata": {},
   "outputs": [
    {
     "name": "stdout",
     "output_type": "stream",
     "text": [
      "[[1. 1. 1. 1. 1.]\n",
      " [1. 1. 1. 1. 1.]\n",
      " [1. 1. 1. 1. 1.]\n",
      " [1. 1. 1. 1. 1.]]\n"
     ]
    }
   ],
   "source": [
    "print(np.ones((4, 5)))"
   ]
  },
  {
   "cell_type": "markdown",
   "metadata": {},
   "source": [
    "np.eye() -> Belirlenen boyutlarda birim matris oluşturmamızı sağlar"
   ]
  },
  {
   "cell_type": "code",
   "execution_count": 46,
   "metadata": {},
   "outputs": [
    {
     "name": "stdout",
     "output_type": "stream",
     "text": [
      "[[1. 0. 0. 0. 0.]\n",
      " [0. 1. 0. 0. 0.]\n",
      " [0. 0. 1. 0. 0.]\n",
      " [0. 0. 0. 1. 0.]\n",
      " [0. 0. 0. 0. 1.]]\n"
     ]
    }
   ],
   "source": [
    "print(np.eye(5)) #np.eye(5,5)"
   ]
  },
  {
   "cell_type": "markdown",
   "metadata": {},
   "source": [
    "np.random() -> İstenilen boyutta bir dizi oluşturur ve bu diziyi 0 ve 1 aralığında rastgele sayılar ile doldurur"
   ]
  },
  {
   "cell_type": "code",
   "execution_count": 14,
   "metadata": {},
   "outputs": [
    {
     "data": {
      "text/plain": [
       "array([[0.98348141, 0.62741672],\n",
       "       [0.19373348, 0.90055722],\n",
       "       [0.26850709, 0.04044001]])"
      ]
     },
     "execution_count": 14,
     "metadata": {},
     "output_type": "execute_result"
    }
   ],
   "source": [
    "nd = np.random.random((3, 2))\n",
    "\n",
    "nd"
   ]
  },
  {
   "cell_type": "markdown",
   "metadata": {},
   "source": [
    "linspace() -> iki değer arasında eşit oranlı değer oluşturur"
   ]
  },
  {
   "cell_type": "code",
   "execution_count": 15,
   "metadata": {},
   "outputs": [
    {
     "data": {
      "text/plain": [
       "array([5.  , 5.25, 5.5 , 5.75, 6.  ])"
      ]
     },
     "execution_count": 15,
     "metadata": {},
     "output_type": "execute_result"
    }
   ],
   "source": [
    "nd = np.linspace(5, 6, num = 5)\n",
    "\n",
    "nd"
   ]
  },
  {
   "cell_type": "code",
   "execution_count": 16,
   "metadata": {},
   "outputs": [
    {
     "data": {
      "text/plain": [
       "array([5.  , 5.25, 5.5 , 5.75, 6.  ])"
      ]
     },
     "execution_count": 16,
     "metadata": {},
     "output_type": "execute_result"
    }
   ],
   "source": [
    "#num kullanmadan da yazılabilir\n",
    "nd = np.linspace(5, 6, 5)\n",
    "\n",
    "nd"
   ]
  },
  {
   "cell_type": "code",
   "execution_count": 17,
   "metadata": {},
   "outputs": [
    {
     "data": {
      "text/plain": [
       "array([5. , 5.2, 5.4, 5.6, 5.8])"
      ]
     },
     "execution_count": 17,
     "metadata": {},
     "output_type": "execute_result"
    }
   ],
   "source": [
    "#bitiş değerini dahil etmek istemezsek endpoint=False u kullanırız.\n",
    "nd = np.linspace(5, 6, 5, endpoint=False)\n",
    "\n",
    "nd"
   ]
  },
  {
   "cell_type": "markdown",
   "metadata": {},
   "source": [
    "Full -> istenilen satır ve sütunda bir matrisi istediğimiz değer ile doldurur. 2 parametre alır. İlk parametre kaça kaç olacağı ikinci parametre de hangi değerle dolduracağımız bilgisini ekleriz."
   ]
  },
  {
   "cell_type": "code",
   "execution_count": 18,
   "metadata": {},
   "outputs": [
    {
     "data": {
      "text/plain": [
       "array([[8, 8, 8, 8],\n",
       "       [8, 8, 8, 8],\n",
       "       [8, 8, 8, 8]])"
      ]
     },
     "execution_count": 18,
     "metadata": {},
     "output_type": "execute_result"
    }
   ],
   "source": [
    "nd = np.full((3, 4), 8)\n",
    "\n",
    "nd"
   ]
  },
  {
   "cell_type": "markdown",
   "metadata": {},
   "source": [
    "**All** -> tüm elemanların verilen şartı sağlayıp sağlamadığını kontrol etmek için kullanırız"
   ]
  },
  {
   "cell_type": "code",
   "execution_count": 20,
   "metadata": {},
   "outputs": [
    {
     "data": {
      "text/plain": [
       "True"
      ]
     },
     "execution_count": 20,
     "metadata": {},
     "output_type": "execute_result"
    }
   ],
   "source": [
    "nd = np.array([1,2,34,5,6])\n",
    "\n",
    "np.all(nd > 0)"
   ]
  },
  {
   "cell_type": "markdown",
   "metadata": {},
   "source": [
    "**any()** -> Herhangi bir elemanın verilen şartı sağlayıp sağlamadığını kontrol etmek için kullanırız"
   ]
  },
  {
   "cell_type": "code",
   "execution_count": 21,
   "metadata": {},
   "outputs": [
    {
     "data": {
      "text/plain": [
       "True"
      ]
     },
     "execution_count": 21,
     "metadata": {},
     "output_type": "execute_result"
    }
   ],
   "source": [
    "nd = np.array([1,2,-1,5,6])\n",
    "\n",
    "np.any(nd < 0)"
   ]
  },
  {
   "cell_type": "markdown",
   "metadata": {},
   "source": [
    "**Matrisleri Birleştirmek** -> concatenate()"
   ]
  },
  {
   "cell_type": "code",
   "execution_count": 24,
   "metadata": {},
   "outputs": [
    {
     "data": {
      "text/plain": [
       "array([1, 2, 3, 4, 5, 6])"
      ]
     },
     "execution_count": 24,
     "metadata": {},
     "output_type": "execute_result"
    }
   ],
   "source": [
    "nd1 = np.array([1,2,3])\n",
    "nd2 = np.array([4,5,6])\n",
    "\n",
    "nd3 = np.concatenate([nd1, nd2])\n",
    "\n",
    "nd3"
   ]
  },
  {
   "cell_type": "markdown",
   "metadata": {},
   "source": [
    "2 numpy array + list"
   ]
  },
  {
   "cell_type": "code",
   "execution_count": 25,
   "metadata": {},
   "outputs": [
    {
     "data": {
      "text/plain": [
       "array([1, 2, 3, 4, 5, 6, 1, 2, 3])"
      ]
     },
     "execution_count": 25,
     "metadata": {},
     "output_type": "execute_result"
    }
   ],
   "source": [
    "nd1 = np.array([1,2,3])\n",
    "nd2 = np.array([4,5,6])\n",
    "my_list = [1,2,3]\n",
    "\n",
    "nd3 = np.concatenate([nd1, nd2, my_list])\n",
    "\n",
    "nd3"
   ]
  },
  {
   "cell_type": "code",
   "execution_count": 29,
   "metadata": {},
   "outputs": [
    {
     "name": "stdout",
     "output_type": "stream",
     "text": [
      "[1 2 3 4 5 6]\n"
     ]
    }
   ],
   "source": [
    "nd1 = np.array([1,2,3])\n",
    "nd2 = np.array([4,5,6])\n",
    "\n",
    "#satır bazlı birleştirme\n",
    "print(np.concatenate([nd1, nd2], axis=0)) #axis=0 yazmak zorunda değiliz"
   ]
  },
  {
   "cell_type": "code",
   "execution_count": 35,
   "metadata": {},
   "outputs": [
    {
     "name": "stdout",
     "output_type": "stream",
     "text": [
      "[[1 2 0 3 4 6]\n",
      " [4 5 7 8 9 0]]\n",
      "[[1 2 0]\n",
      " [4 5 7]\n",
      " [3 4 6]\n",
      " [8 9 0]]\n"
     ]
    }
   ],
   "source": [
    "nd1 = np.array([[1,2,0], [4,5,7]])\n",
    "nd2 = np.array([[3,4,6], [8,9,0]])\n",
    "\n",
    "#sütun bazlı birleştirme\n",
    "print(np.concatenate([nd1, nd2], axis = 1))\n",
    "\n",
    "#satır bazlı birleştirme\n",
    "print(np.concatenate([nd1, nd2]))"
   ]
  },
  {
   "cell_type": "markdown",
   "metadata": {},
   "source": [
    "**Numpy ile matematiksel işlemler**\n",
    "\n",
    "* sum\n",
    "* max\n",
    "* min\n",
    "* mean\n",
    "* median\n",
    "* varyans\n",
    "* standart sapma"
   ]
  },
  {
   "cell_type": "code",
   "execution_count": 36,
   "metadata": {},
   "outputs": [
    {
     "data": {
      "text/plain": [
       "array([[0, 1],\n",
       "       [2, 3],\n",
       "       [4, 5],\n",
       "       [6, 7],\n",
       "       [8, 9]])"
      ]
     },
     "execution_count": 36,
     "metadata": {},
     "output_type": "execute_result"
    }
   ],
   "source": [
    "my_list = [0,1,2,3,4,5,6,7,8,9]\n",
    "\n",
    "nd = np.array(my_list)\n",
    "nd = nd.reshape(5, 2)\n",
    "\n",
    "nd"
   ]
  },
  {
   "cell_type": "markdown",
   "metadata": {},
   "source": [
    "Sum"
   ]
  },
  {
   "cell_type": "code",
   "execution_count": 37,
   "metadata": {},
   "outputs": [
    {
     "name": "stdout",
     "output_type": "stream",
     "text": [
      "Satır Bazlı Toplama:  [ 1  5  9 13 17]\n",
      "Sütun Bazlı Toplama:  [20 25]\n"
     ]
    }
   ],
   "source": [
    "print(\"Satır Bazlı Toplama: \", nd.sum(axis=1))\n",
    "print(\"Sütun Bazlı Toplama: \", nd.sum(axis=0))"
   ]
  },
  {
   "cell_type": "markdown",
   "metadata": {},
   "source": [
    "max"
   ]
  },
  {
   "cell_type": "code",
   "execution_count": 38,
   "metadata": {},
   "outputs": [
    {
     "name": "stdout",
     "output_type": "stream",
     "text": [
      "9\n"
     ]
    }
   ],
   "source": [
    "print(nd.max())"
   ]
  },
  {
   "cell_type": "markdown",
   "metadata": {},
   "source": [
    "min"
   ]
  },
  {
   "cell_type": "code",
   "execution_count": 39,
   "metadata": {},
   "outputs": [
    {
     "name": "stdout",
     "output_type": "stream",
     "text": [
      "0\n"
     ]
    }
   ],
   "source": [
    "print(nd.min())"
   ]
  },
  {
   "cell_type": "markdown",
   "metadata": {},
   "source": [
    "mean() -> Ortalama"
   ]
  },
  {
   "cell_type": "code",
   "execution_count": 40,
   "metadata": {},
   "outputs": [
    {
     "name": "stdout",
     "output_type": "stream",
     "text": [
      "4.5\n"
     ]
    }
   ],
   "source": [
    "print(nd.mean())"
   ]
  },
  {
   "cell_type": "markdown",
   "metadata": {},
   "source": [
    "Standart sapma -> bir dizindeki verilerin ortalamaya göre dağılımın sayısal olarak gösterimidir."
   ]
  },
  {
   "cell_type": "code",
   "execution_count": 42,
   "metadata": {},
   "outputs": [
    {
     "name": "stdout",
     "output_type": "stream",
     "text": [
      "2.8722813232690143\n"
     ]
    }
   ],
   "source": [
    "print(nd.std())"
   ]
  },
  {
   "cell_type": "markdown",
   "metadata": {},
   "source": [
    "varyans -> standart sapmanın karesidir."
   ]
  },
  {
   "cell_type": "code",
   "execution_count": 43,
   "metadata": {},
   "outputs": [
    {
     "name": "stdout",
     "output_type": "stream",
     "text": [
      "8.25\n"
     ]
    }
   ],
   "source": [
    "print(nd.var())"
   ]
  },
  {
   "cell_type": "markdown",
   "metadata": {},
   "source": [
    "Aritmetik İşlemler"
   ]
  },
  {
   "cell_type": "code",
   "execution_count": 54,
   "metadata": {},
   "outputs": [],
   "source": [
    "nd1 = np.array([[1,2,3], [4,5,7]])\n",
    "nd2 = np.array([[3,4,6], [8,9,5]])"
   ]
  },
  {
   "cell_type": "code",
   "execution_count": 55,
   "metadata": {},
   "outputs": [
    {
     "data": {
      "text/plain": [
       "array([[1, 2, 3],\n",
       "       [4, 5, 7]])"
      ]
     },
     "execution_count": 55,
     "metadata": {},
     "output_type": "execute_result"
    }
   ],
   "source": [
    "nd1"
   ]
  },
  {
   "cell_type": "code",
   "execution_count": 56,
   "metadata": {},
   "outputs": [
    {
     "data": {
      "text/plain": [
       "array([[3, 4, 6],\n",
       "       [8, 9, 5]])"
      ]
     },
     "execution_count": 56,
     "metadata": {},
     "output_type": "execute_result"
    }
   ],
   "source": [
    "nd2"
   ]
  },
  {
   "cell_type": "markdown",
   "metadata": {},
   "source": [
    "Toplama işlemini + operatörü ve add metodu ile yaparız"
   ]
  },
  {
   "cell_type": "code",
   "execution_count": 57,
   "metadata": {},
   "outputs": [
    {
     "name": "stdout",
     "output_type": "stream",
     "text": [
      "[[ 4  6  9]\n",
      " [12 14 12]]\n"
     ]
    }
   ],
   "source": [
    "print(nd1 + nd2)"
   ]
  },
  {
   "cell_type": "code",
   "execution_count": 58,
   "metadata": {},
   "outputs": [
    {
     "name": "stdout",
     "output_type": "stream",
     "text": [
      "[[ 4  6  9]\n",
      " [12 14 12]]\n"
     ]
    }
   ],
   "source": [
    "print(np.add(nd1, nd2))"
   ]
  },
  {
   "cell_type": "markdown",
   "metadata": {},
   "source": [
    "Çıkarma işlemini - operatörü ve subtract metodu ile yaparız"
   ]
  },
  {
   "cell_type": "code",
   "execution_count": 59,
   "metadata": {},
   "outputs": [
    {
     "name": "stdout",
     "output_type": "stream",
     "text": [
      "[[ 2  2  3]\n",
      " [ 4  4 -2]]\n"
     ]
    }
   ],
   "source": [
    "print(nd2 - nd1)"
   ]
  },
  {
   "cell_type": "code",
   "execution_count": 60,
   "metadata": {},
   "outputs": [
    {
     "name": "stdout",
     "output_type": "stream",
     "text": [
      "[[ 2  2  3]\n",
      " [ 4  4 -2]]\n"
     ]
    }
   ],
   "source": [
    "print(np.subtract(nd2, nd1))"
   ]
  },
  {
   "cell_type": "markdown",
   "metadata": {},
   "source": [
    "Çarpma işlemini * operatörü ve multiply metodu ile yaparız"
   ]
  },
  {
   "cell_type": "code",
   "execution_count": 61,
   "metadata": {},
   "outputs": [
    {
     "name": "stdout",
     "output_type": "stream",
     "text": [
      "[[ 3  8 18]\n",
      " [32 45 35]]\n"
     ]
    }
   ],
   "source": [
    "print(nd1 * nd2)"
   ]
  },
  {
   "cell_type": "code",
   "execution_count": 62,
   "metadata": {},
   "outputs": [
    {
     "name": "stdout",
     "output_type": "stream",
     "text": [
      "[[ 3  8 18]\n",
      " [32 45 35]]\n"
     ]
    }
   ],
   "source": [
    "print(np.multiply(nd1, nd2))"
   ]
  },
  {
   "cell_type": "markdown",
   "metadata": {},
   "source": [
    "Bölme işlemi / operatörü ve divide metodu ile yaparız"
   ]
  },
  {
   "cell_type": "code",
   "execution_count": 63,
   "metadata": {},
   "outputs": [
    {
     "name": "stdout",
     "output_type": "stream",
     "text": [
      "[[3.         2.         2.        ]\n",
      " [2.         1.8        0.71428571]]\n"
     ]
    }
   ],
   "source": [
    "print(nd2 / nd1)"
   ]
  },
  {
   "cell_type": "code",
   "execution_count": 64,
   "metadata": {},
   "outputs": [
    {
     "name": "stdout",
     "output_type": "stream",
     "text": [
      "[[3.         2.         2.        ]\n",
      " [2.         1.8        0.71428571]]\n"
     ]
    }
   ],
   "source": [
    "print(np.divide(nd2, nd1))"
   ]
  },
  {
   "cell_type": "code",
   "execution_count": 69,
   "metadata": {},
   "outputs": [
    {
     "data": {
      "text/plain": [
       "array([[4., 4., 4., 4.],\n",
       "       [4., 4., 4., 4.],\n",
       "       [4., 4., 4., 4.]])"
      ]
     },
     "execution_count": 69,
     "metadata": {},
     "output_type": "execute_result"
    }
   ],
   "source": [
    "nd = np.ones((3,4))\n",
    "\n",
    "nd * 4"
   ]
  },
  {
   "cell_type": "markdown",
   "metadata": {},
   "source": [
    "Matrislerin çarpımı\n",
    "\n",
    "@ ve dot fonksiyonunu kullanıyoruz. Unutulmaması gereken nokta ilk matrisin sütun sayısı ikinci matrisin satır sayısına eşit olmalı"
   ]
  },
  {
   "cell_type": "code",
   "execution_count": 71,
   "metadata": {},
   "outputs": [
    {
     "data": {
      "text/plain": [
       "array([0, 1, 2, 3, 4, 5, 6, 7, 8, 9])"
      ]
     },
     "execution_count": 71,
     "metadata": {},
     "output_type": "execute_result"
    }
   ],
   "source": [
    "nd = np.arange(0, 10)\n",
    "nd1 = nd.reshape(5,2)\n",
    "nd2 = nd.reshape(2,5)\n",
    "nd"
   ]
  },
  {
   "cell_type": "code",
   "execution_count": 72,
   "metadata": {},
   "outputs": [
    {
     "data": {
      "text/plain": [
       "array([[0, 1],\n",
       "       [2, 3],\n",
       "       [4, 5],\n",
       "       [6, 7],\n",
       "       [8, 9]])"
      ]
     },
     "execution_count": 72,
     "metadata": {},
     "output_type": "execute_result"
    }
   ],
   "source": [
    "nd1"
   ]
  },
  {
   "cell_type": "code",
   "execution_count": 73,
   "metadata": {},
   "outputs": [
    {
     "data": {
      "text/plain": [
       "array([[0, 1, 2, 3, 4],\n",
       "       [5, 6, 7, 8, 9]])"
      ]
     },
     "execution_count": 73,
     "metadata": {},
     "output_type": "execute_result"
    }
   ],
   "source": [
    "nd2"
   ]
  },
  {
   "cell_type": "code",
   "execution_count": 74,
   "metadata": {},
   "outputs": [
    {
     "name": "stdout",
     "output_type": "stream",
     "text": [
      "[[  5   6   7   8   9]\n",
      " [ 15  20  25  30  35]\n",
      " [ 25  34  43  52  61]\n",
      " [ 35  48  61  74  87]\n",
      " [ 45  62  79  96 113]]\n"
     ]
    }
   ],
   "source": [
    "print(np.dot(nd1, nd2))"
   ]
  },
  {
   "cell_type": "code",
   "execution_count": 75,
   "metadata": {},
   "outputs": [
    {
     "name": "stdout",
     "output_type": "stream",
     "text": [
      "[[  5   6   7   8   9]\n",
      " [ 15  20  25  30  35]\n",
      " [ 25  34  43  52  61]\n",
      " [ 35  48  61  74  87]\n",
      " [ 45  62  79  96 113]]\n"
     ]
    }
   ],
   "source": [
    "print(nd1@nd2)"
   ]
  },
  {
   "cell_type": "code",
   "execution_count": 76,
   "metadata": {},
   "outputs": [
    {
     "data": {
      "text/plain": [
       "array([[  5,   6,   7,   8,   9],\n",
       "       [ 15,  20,  25,  30,  35],\n",
       "       [ 25,  34,  43,  52,  61],\n",
       "       [ 35,  48,  61,  74,  87],\n",
       "       [ 45,  62,  79,  96, 113]])"
      ]
     },
     "execution_count": 76,
     "metadata": {},
     "output_type": "execute_result"
    }
   ],
   "source": [
    "np.matmul(nd1,nd2)"
   ]
  },
  {
   "cell_type": "markdown",
   "metadata": {},
   "source": [
    "Matrisin Transpozu -> Satırları sütun, sütunları satır yapma işlemi -> .T"
   ]
  },
  {
   "cell_type": "code",
   "execution_count": 78,
   "metadata": {},
   "outputs": [
    {
     "data": {
      "text/plain": [
       "array([[0, 1],\n",
       "       [2, 3],\n",
       "       [4, 5],\n",
       "       [6, 7],\n",
       "       [8, 9]])"
      ]
     },
     "execution_count": 78,
     "metadata": {},
     "output_type": "execute_result"
    }
   ],
   "source": [
    "nd = np.arange(0, 10)\n",
    "nd1 = nd.reshape(5,2)\n",
    "\n",
    "nd1"
   ]
  },
  {
   "cell_type": "code",
   "execution_count": 79,
   "metadata": {},
   "outputs": [
    {
     "data": {
      "text/plain": [
       "array([[0, 2, 4, 6, 8],\n",
       "       [1, 3, 5, 7, 9]])"
      ]
     },
     "execution_count": 79,
     "metadata": {},
     "output_type": "execute_result"
    }
   ],
   "source": [
    "nd1.T"
   ]
  },
  {
   "cell_type": "code",
   "execution_count": 86,
   "metadata": {},
   "outputs": [
    {
     "data": {
      "text/plain": [
       "array([[[ 1,  2,  3,  4,  6,  7,  8],\n",
       "        [ 9, 10, 11, 12, 13, 14, 15]],\n",
       "\n",
       "       [[16, 26, 36, 46, 66, 76, 86],\n",
       "        [13, 32, 33, 43, 63, 37, 38]]])"
      ]
     },
     "execution_count": 86,
     "metadata": {},
     "output_type": "execute_result"
    }
   ],
   "source": [
    "nd_3d = np.array([[[1,2,3,4,6,7,8], [9,10,11,12,13,14,15]], [[16,26,36,46,66,76,86], [13,32,33,43,63,37,38]]])\n",
    "\n",
    "nd_3d"
   ]
  },
  {
   "cell_type": "code",
   "execution_count": 87,
   "metadata": {},
   "outputs": [
    {
     "data": {
      "text/plain": [
       "array([[[ 1, 16],\n",
       "        [ 9, 13]],\n",
       "\n",
       "       [[ 2, 26],\n",
       "        [10, 32]],\n",
       "\n",
       "       [[ 3, 36],\n",
       "        [11, 33]],\n",
       "\n",
       "       [[ 4, 46],\n",
       "        [12, 43]],\n",
       "\n",
       "       [[ 6, 66],\n",
       "        [13, 63]],\n",
       "\n",
       "       [[ 7, 76],\n",
       "        [14, 37]],\n",
       "\n",
       "       [[ 8, 86],\n",
       "        [15, 38]]])"
      ]
     },
     "execution_count": 87,
     "metadata": {},
     "output_type": "execute_result"
    }
   ],
   "source": [
    "nd_3d.T"
   ]
  }
 ],
 "metadata": {
  "kernelspec": {
   "display_name": "Python 3.8.5 ('base')",
   "language": "python",
   "name": "python3"
  },
  "language_info": {
   "codemirror_mode": {
    "name": "ipython",
    "version": 3
   },
   "file_extension": ".py",
   "mimetype": "text/x-python",
   "name": "python",
   "nbconvert_exporter": "python",
   "pygments_lexer": "ipython3",
   "version": "3.8.5"
  },
  "orig_nbformat": 4,
  "vscode": {
   "interpreter": {
    "hash": "85849ef95885899d47daeff0f578b9f8af82a26ba4d539bff16a3c227f835db9"
   }
  }
 },
 "nbformat": 4,
 "nbformat_minor": 2
}
