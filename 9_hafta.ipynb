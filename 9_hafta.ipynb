{
 "cells": [
  {
   "cell_type": "markdown",
   "metadata": {},
   "source": [
    "**Numpy**\n",
    "\n",
    "* Numpy -> Numeric Python\n",
    "* Listelerden 50 kata kadar daha hızlı\n",
    "* Çok boyutlu arrayler ve matrisler üzerinde yüksek performanslı çalışma imkanı sağlar.\n",
    "* veri tipleri homoje yapıda olmalıdır. Tüm elemanlar aynı veri tipinde olmalı\n",
    "* Numpy dizilerinin veri tipi ndarray dir\n"
   ]
  },
  {
   "cell_type": "markdown",
   "metadata": {},
   "source": [
    "pip install numpy"
   ]
  },
  {
   "cell_type": "markdown",
   "metadata": {},
   "source": [
    "np.__version__"
   ]
  },
  {
   "cell_type": "code",
   "execution_count": 3,
   "metadata": {},
   "outputs": [],
   "source": [
    "import numpy as np"
   ]
  },
  {
   "cell_type": "code",
   "execution_count": 4,
   "metadata": {},
   "outputs": [
    {
     "name": "stdout",
     "output_type": "stream",
     "text": [
      "[1 2 3 4 6 7 8]\n"
     ]
    }
   ],
   "source": [
    "nd = np.array([1,2,3,4,6,7,8]) #list\n",
    "\n",
    "print(nd)"
   ]
  },
  {
   "cell_type": "code",
   "execution_count": 2,
   "metadata": {},
   "outputs": [
    {
     "name": "stdout",
     "output_type": "stream",
     "text": [
      "<class 'numpy.ndarray'>\n"
     ]
    }
   ],
   "source": [
    "print(type(nd))"
   ]
  },
  {
   "cell_type": "code",
   "execution_count": 5,
   "metadata": {},
   "outputs": [
    {
     "name": "stdout",
     "output_type": "stream",
     "text": [
      "[1 2 3 4 6 7 8]\n"
     ]
    }
   ],
   "source": [
    "nd = np.array((1,2,3,4,6,7,8)) #tuple\n",
    "\n",
    "print(nd)"
   ]
  },
  {
   "cell_type": "markdown",
   "metadata": {},
   "source": [
    "O Boyutlu Diziler"
   ]
  },
  {
   "cell_type": "code",
   "execution_count": 6,
   "metadata": {},
   "outputs": [
    {
     "name": "stdout",
     "output_type": "stream",
     "text": [
      "48\n"
     ]
    }
   ],
   "source": [
    "nd = np.array(48)\n",
    "\n",
    "print(nd)"
   ]
  },
  {
   "cell_type": "markdown",
   "metadata": {},
   "source": [
    "1-D diziler"
   ]
  },
  {
   "cell_type": "code",
   "execution_count": 7,
   "metadata": {},
   "outputs": [
    {
     "name": "stdout",
     "output_type": "stream",
     "text": [
      "[1 2 3 4 6 7 8]\n"
     ]
    }
   ],
   "source": [
    "nd = np.array([1,2,3,4,6,7,8])\n",
    "\n",
    "print(nd)"
   ]
  },
  {
   "cell_type": "markdown",
   "metadata": {},
   "source": [
    "2-D diziler"
   ]
  },
  {
   "cell_type": "code",
   "execution_count": 8,
   "metadata": {},
   "outputs": [
    {
     "name": "stdout",
     "output_type": "stream",
     "text": [
      "[[1 2 3 4 6 7 8]\n",
      " [1 2 3 4 6 7 8]]\n"
     ]
    }
   ],
   "source": [
    "nd_2d = np.array([[1,2,3,4,6,7,8], [1,2,3,4,6,7,8]])\n",
    "\n",
    "print(nd_2d)"
   ]
  },
  {
   "cell_type": "markdown",
   "metadata": {},
   "source": [
    "3-D Diziler"
   ]
  },
  {
   "cell_type": "code",
   "execution_count": 9,
   "metadata": {},
   "outputs": [
    {
     "name": "stdout",
     "output_type": "stream",
     "text": [
      "[[[1 2 3 4 6 7 8]\n",
      "  [1 2 3 4 6 7 8]]\n",
      "\n",
      " [[1 2 3 4 6 7 8]\n",
      "  [1 2 3 4 6 7 8]]]\n"
     ]
    }
   ],
   "source": [
    "nd_3d = np.array([[[1,2,3,4,6,7,8], [1,2,3,4,6,7,8]], [[1,2,3,4,6,7,8], [1,2,3,4,6,7,8]]])\n",
    "\n",
    "print(nd_3d)"
   ]
  },
  {
   "cell_type": "markdown",
   "metadata": {},
   "source": [
    "Boyut bulma -> ndim"
   ]
  },
  {
   "cell_type": "code",
   "execution_count": 10,
   "metadata": {},
   "outputs": [
    {
     "name": "stdout",
     "output_type": "stream",
     "text": [
      "1\n",
      "2\n",
      "3\n"
     ]
    }
   ],
   "source": [
    "nd = np.array([1,2,3,4,6,7,8])\n",
    "nd_2d = np.array([[1,2,3,4,6,7,8], [1,2,3,4,6,7,8]])\n",
    "nd_3d = np.array([[[1,2,3,4,6,7,8], [1,2,3,4,6,7,8]], [[1,2,3,4,6,7,8], [1,2,3,4,6,7,8]]])\n",
    "\n",
    "\n",
    "print(nd.ndim)\n",
    "print(nd_2d.ndim)\n",
    "print(nd_3d.ndim)"
   ]
  },
  {
   "cell_type": "code",
   "execution_count": 13,
   "metadata": {},
   "outputs": [
    {
     "name": "stdout",
     "output_type": "stream",
     "text": [
      "[[1 2 3]]\n",
      "2\n"
     ]
    }
   ],
   "source": [
    "nd = np.array([1,2,3], ndmin=2)\n",
    "\n",
    "print(nd)\n",
    "print(nd.ndim)"
   ]
  },
  {
   "cell_type": "markdown",
   "metadata": {},
   "source": [
    "shape -> dizinin satır sütun sayısını verir"
   ]
  },
  {
   "cell_type": "code",
   "execution_count": 15,
   "metadata": {},
   "outputs": [
    {
     "name": "stdout",
     "output_type": "stream",
     "text": [
      "1 boyutlu dizi   (5,)\n",
      "2 boyutlu dizi   (2, 6)\n"
     ]
    }
   ],
   "source": [
    "nd = np.array([1,0,3,4,8])\n",
    "nd_2d = np.array([[1,2,0,3,4,6], [4,5,7,8,4,9]])\n",
    "\n",
    "print(\"1 boyutlu dizi  \",nd.shape)\n",
    "print(\"2 boyutlu dizi  \",nd_2d.shape)"
   ]
  },
  {
   "cell_type": "markdown",
   "metadata": {},
   "source": [
    ".reshape() -> dizinin satır ve sütun değerlerini değiştirir"
   ]
  },
  {
   "cell_type": "code",
   "execution_count": 24,
   "metadata": {},
   "outputs": [
    {
     "name": "stdout",
     "output_type": "stream",
     "text": [
      "(10,)\n",
      "\n",
      "2X5\n",
      "[[ 1  2  3  4  5]\n",
      " [ 6  7  8  9 10]]\n",
      "\n",
      "5X2\n",
      "[[ 1  2]\n",
      " [ 3  4]\n",
      " [ 5  6]\n",
      " [ 7  8]\n",
      " [ 9 10]]\n"
     ]
    }
   ],
   "source": [
    "nd = np.array([1,2,3,4,5,6,7,8,9,10])\n",
    "\n",
    "print(nd.shape)\n",
    "print(\"\\n2X5\")\n",
    "print(nd.reshape(2, 5))\n",
    "print(\"\\n5X2\")\n",
    "print(nd.reshape(5, 2))"
   ]
  },
  {
   "cell_type": "markdown",
   "metadata": {},
   "source": [
    "np.arange()\n",
    "\n",
    "[start, end, step]"
   ]
  },
  {
   "cell_type": "code",
   "execution_count": 25,
   "metadata": {},
   "outputs": [
    {
     "name": "stdout",
     "output_type": "stream",
     "text": [
      "[0 2 4 6 8]\n"
     ]
    }
   ],
   "source": [
    "nd = np.arange(0,10,2)\n",
    "\n",
    "print(nd)"
   ]
  },
  {
   "cell_type": "markdown",
   "metadata": {},
   "source": [
    "Dizi elemanlarına erişim"
   ]
  },
  {
   "cell_type": "code",
   "execution_count": 28,
   "metadata": {},
   "outputs": [
    {
     "name": "stdout",
     "output_type": "stream",
     "text": [
      "6\n"
     ]
    }
   ],
   "source": [
    "#1-D dizilerde erişim\n",
    "nd = np.arange(0,11,3)\n",
    "\n",
    "print(nd[2])"
   ]
  },
  {
   "cell_type": "code",
   "execution_count": 31,
   "metadata": {},
   "outputs": [
    {
     "name": "stdout",
     "output_type": "stream",
     "text": [
      "[[1 2 0 3 4 6]\n",
      " [4 5 7 8 4 9]]\n",
      "9\n",
      "9\n"
     ]
    }
   ],
   "source": [
    "#2-D dizilerde erişim\n",
    "nd_2d = np.array([[1,2,0,3,4,6], [4,5,7,8,4,9]])\n",
    "\n",
    "print(nd_2d)\n",
    "\n",
    "#9 elemanına erişim\n",
    "print(nd_2d[1, 5])\n",
    "\n",
    "#negatif indexleme\n",
    "print(nd_2d[1, -1])"
   ]
  },
  {
   "cell_type": "code",
   "execution_count": 33,
   "metadata": {},
   "outputs": [
    {
     "name": "stdout",
     "output_type": "stream",
     "text": [
      "[[[1 2 3]\n",
      "  [4 6 7]]\n",
      "\n",
      " [[3 4 6]\n",
      "  [6 7 8]]]\n",
      "7\n"
     ]
    }
   ],
   "source": [
    "#3-D dizilerde erişim\n",
    "nd_3d = np.array([[[1,2,3], [4,6,7]], [[3,4,6], [6,7,8]]])\n",
    "\n",
    "print(nd_3d)\n",
    "print(nd_3d[0, 1, 2])"
   ]
  },
  {
   "cell_type": "markdown",
   "metadata": {},
   "source": [
    "NumPy Slicing\n",
    "\n",
    "[start, end, step]"
   ]
  },
  {
   "cell_type": "code",
   "execution_count": 34,
   "metadata": {},
   "outputs": [
    {
     "name": "stdout",
     "output_type": "stream",
     "text": [
      "[1 2 3 4]\n"
     ]
    }
   ],
   "source": [
    "nd = np.array([1,2,3,4,5,6,7,8,9,10])\n",
    "\n",
    "print(nd[:4])"
   ]
  },
  {
   "cell_type": "code",
   "execution_count": 37,
   "metadata": {},
   "outputs": [
    {
     "name": "stdout",
     "output_type": "stream",
     "text": [
      "[[2 0 3]\n",
      " [5 7 8]]\n"
     ]
    }
   ],
   "source": [
    "nd_2d = np.array([[1,2,0,3,4,6], [4,5,7,8,4,9], [3,5,6,8,9,0]])\n",
    "\n",
    "print(nd_2d[0:2, 1:4])"
   ]
  },
  {
   "cell_type": "code",
   "execution_count": 38,
   "metadata": {},
   "outputs": [
    {
     "name": "stdout",
     "output_type": "stream",
     "text": [
      "int32\n"
     ]
    }
   ],
   "source": [
    "print(nd_2d.dtype)"
   ]
  },
  {
   "cell_type": "markdown",
   "metadata": {},
   "source": [
    "0 matrisi oluşturma -> np.zeros()"
   ]
  },
  {
   "cell_type": "code",
   "execution_count": 43,
   "metadata": {},
   "outputs": [
    {
     "name": "stdout",
     "output_type": "stream",
     "text": [
      "[[0. 0. 0. 0. 0.]\n",
      " [0. 0. 0. 0. 0.]\n",
      " [0. 0. 0. 0. 0.]\n",
      " [0. 0. 0. 0. 0.]]\n"
     ]
    }
   ],
   "source": [
    "print(np.zeros((4, 5)))"
   ]
  },
  {
   "cell_type": "markdown",
   "metadata": {},
   "source": [
    "np.ones() -> 1 lerden oluşan bir matris döner"
   ]
  },
  {
   "cell_type": "code",
   "execution_count": 44,
   "metadata": {},
   "outputs": [
    {
     "name": "stdout",
     "output_type": "stream",
     "text": [
      "[[1. 1. 1. 1. 1.]\n",
      " [1. 1. 1. 1. 1.]\n",
      " [1. 1. 1. 1. 1.]\n",
      " [1. 1. 1. 1. 1.]]\n"
     ]
    }
   ],
   "source": [
    "print(np.ones((4, 5)))"
   ]
  },
  {
   "cell_type": "markdown",
   "metadata": {},
   "source": [
    "np.eye() -> Belirlenen boyutlarda birim matris oluşturmamızı sağlar"
   ]
  },
  {
   "cell_type": "code",
   "execution_count": 46,
   "metadata": {},
   "outputs": [
    {
     "name": "stdout",
     "output_type": "stream",
     "text": [
      "[[1. 0. 0. 0. 0.]\n",
      " [0. 1. 0. 0. 0.]\n",
      " [0. 0. 1. 0. 0.]\n",
      " [0. 0. 0. 1. 0.]\n",
      " [0. 0. 0. 0. 1.]]\n"
     ]
    }
   ],
   "source": [
    "print(np.eye(5)) #np.eye(5,5)"
   ]
  }
 ],
 "metadata": {
  "kernelspec": {
   "display_name": "Python 3.8.5 ('base')",
   "language": "python",
   "name": "python3"
  },
  "language_info": {
   "codemirror_mode": {
    "name": "ipython",
    "version": 3
   },
   "file_extension": ".py",
   "mimetype": "text/x-python",
   "name": "python",
   "nbconvert_exporter": "python",
   "pygments_lexer": "ipython3",
   "version": "3.8.5"
  },
  "orig_nbformat": 4,
  "vscode": {
   "interpreter": {
    "hash": "85849ef95885899d47daeff0f578b9f8af82a26ba4d539bff16a3c227f835db9"
   }
  }
 },
 "nbformat": 4,
 "nbformat_minor": 2
}
