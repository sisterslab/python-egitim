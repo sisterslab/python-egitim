{
 "cells": [
  {
   "cell_type": "markdown",
   "metadata": {},
   "source": [
    "0-100 arasında karışık sırada sayıları tutan bir listenizin olduğunu düşünün. Bu liste içinden n tane sayının eksik olduğunu varsayalım. Örnek verecek olursak;\n",
    "\n",
    "liste = [9,4,5,6,1,2] -> 0-10 arasındaki sayılar olsun. Burada 0,3,7,8 sayıları eksik gördüğünüz gibi. Sizden liste içerisindeki eksik sayıların kaç adet olduğunu ve hangilerinin olduğunu bulmanızı istiyorum"
   ]
  },
  {
   "cell_type": "code",
   "execution_count": 3,
   "metadata": {},
   "outputs": [
    {
     "name": "stdout",
     "output_type": "stream",
     "text": [
      "[1, 2, 3, 4, 5, 6, 7, 8, 9, 10, 11, 12, 13, 14, 15, 16, 17, 18, 19, 20, 21, 22, 23, 24, 25, 26, 27, 28, 29, 30, 31, 32, 33, 34, 35, 36, 37, 38, 39, 40, 41, 42, 43, 44, 45, 46, 47, 48, 49, 50, 51, 52, 53, 54, 55, 56, 57, 58, 59, 60, 61, 62, 63, 64, 65, 66, 67, 68, 69, 70, 71, 72, 73, 74, 75, 76, 77, 78, 79, 80, 81, 82, 83, 84, 85, 86, 87, 88, 89, 90, 91, 92, 93, 94, 95, 96, 97, 98, 99, 100]\n"
     ]
    }
   ],
   "source": [
    "#Liste oluşturma\n",
    "num_list = []\n",
    "\n",
    "#1. Yöntem\n",
    "for i in range(1, 101):\n",
    "    num_list.append(i)\n",
    "\n",
    "#2. Yöntem\n",
    "num_list1 = list(range(1, 101))\n",
    "\n",
    "#3. Yöntem\n",
    "num_list2 = [i for i in range(1, 101)]\n",
    "\n",
    "print(num_list2)"
   ]
  },
  {
   "cell_type": "code",
   "execution_count": 13,
   "metadata": {},
   "outputs": [
    {
     "name": "stdout",
     "output_type": "stream",
     "text": [
      "Kaldırılan sayı:  11\n",
      "Kaldırılan sayı:  29\n",
      "Kaldırılan sayı:  14\n",
      "Kaldırılan sayı:  21\n",
      "Kaldırılan sayı:  100\n",
      "Kaldırılan sayı:  32\n",
      "Daha önce kaldırılan bir eleman\n",
      "Kaldırılan sayı:  61\n",
      "Kaldırılan sayı:  90\n",
      "[1, 2, 3, 4, 5, 6, 7, 8, 9, 10, 12, 13, 15, 16, 17, 18, 19, 20, 22, 23, 24, 25, 26, 27, 28, 30, 31, 33, 34, 35, 36, 37, 38, 39, 40, 41, 42, 43, 44, 45, 46, 47, 48, 49, 50, 51, 52, 53, 54, 55, 56, 57, 58, 59, 60, 62, 63, 64, 65, 66, 67, 68, 69, 70, 71, 72, 73, 74, 75, 76, 77, 78, 79, 80, 81, 82, 83, 84, 85, 86, 87, 88, 89, 91, 92, 93, 94, 95, 96, 97, 98, 99]\n",
      "Liste karıştırılıyor\n",
      "[38, 3, 93, 98, 60, 97, 95, 1, 75, 72, 88, 94, 37, 23, 89, 69, 82, 52, 5, 53, 57, 49, 33, 8, 87, 70, 68, 63, 56, 78, 84, 44, 83, 86, 67, 4, 80, 64, 7, 17, 9, 41, 6, 28, 71, 74, 85, 43, 27, 45, 47, 46, 65, 62, 18, 40, 39, 10, 13, 16, 99, 76, 91, 73, 30, 48, 77, 15, 58, 12, 42, 35, 79, 20, 59, 26, 19, 2, 96, 24, 36, 31, 66, 25, 50, 54, 22, 34, 92, 51, 55, 81]\n"
     ]
    }
   ],
   "source": [
    "import random\n",
    "\n",
    "num_list = [i for i in range(1, 101)]\n",
    "\n",
    "i = 0\n",
    "while i < 8:\n",
    "    remove_item = random.randint(0, 100)\n",
    "    if remove_item in num_list:\n",
    "        num_list.remove(remove_item)\n",
    "        print(\"Kaldırılan sayı: \", remove_item)\n",
    "        i += 1\n",
    "    else:\n",
    "        print(\"Daha önce kaldırılan bir eleman\")\n",
    "\n",
    "print(num_list)\n",
    "random.shuffle(num_list) #Listeyi karıştırır\n",
    "print(\"Liste karıştırılıyor\")\n",
    "print(num_list)"
   ]
  },
  {
   "cell_type": "code",
   "execution_count": null,
   "metadata": {},
   "outputs": [],
   "source": [
    "#Standart yöntem - Remove\n",
    "num_list = [38, 3, 93, 98, 60, 97, 95, 1, 75, 72, 88, 94, 37, 23, 89, 69, 82, 52, 5, 53, 57, 49, 33, 8, 87, 70, 68, 63, 56, 78, 84, 44, 83, 86, 67, 4, 80, 64, 7, 17, 9, 41, 6, 28, 71, 74, 85, 43, 27, 45, 47, 46, 65, 62, 18, 40, 39, 10, 13, 16, 99, 76, 91, 73, 30, 48, 77, 15, 58, 12, 42, 35, 79, 20, 59, 26, 19, 2, 96, 24, 36, 31, 66, 25, 50, 54, 22, 34, 92, 51, 55, 81]\n",
    "\n",
    "my_list = list(range(1, 101))\n",
    "for i in num_list:\n",
    "    my_list.remove(i)\n",
    "\n",
    "print(my_list)"
   ]
  },
  {
   "cell_type": "code",
   "execution_count": 16,
   "metadata": {},
   "outputs": [
    {
     "name": "stdout",
     "output_type": "stream",
     "text": [
      "[11, 14, 21, 29, 32, 61, 90, 100]\n"
     ]
    }
   ],
   "source": [
    "#Standart çözüm 2 - append()\n",
    "my_list = [38, 3, 93, 98, 60, 97, 95, 1, 75, 72, 88, 94, 37, 23, 89, 69, 82, 52, 5, 53, 57, 49, 33, 8, 87, 70, 68, 63, 56, 78, 84, 44, 83, 86, 67, 4, 80, 64, 7, 17, 9, 41, 6, 28, 71, 74, 85, 43, 27, 45, 47, 46, 65, 62, 18, 40, 39, 10, 13, 16, 99, 76, 91, 73, 30, 48, 77, 15, 58, 12, 42, 35, 79, 20, 59, 26, 19, 2, 96, 24, 36, 31, 66, 25, 50, 54, 22, 34, 92, 51, 55, 81]\n",
    "missing_elements = []\n",
    "\n",
    "for i in range(1, 101):\n",
    "    if i not in my_list:\n",
    "        missing_elements.append(i)\n",
    "\n",
    "print(missing_elements)"
   ]
  },
  {
   "cell_type": "code",
   "execution_count": 17,
   "metadata": {},
   "outputs": [
    {
     "name": "stdout",
     "output_type": "stream",
     "text": [
      "{32, 100, 11, 14, 61, 21, 90, 29}\n"
     ]
    }
   ],
   "source": [
    "my_list = [38, 3, 93, 98, 60, 97, 95, 1, 75, 72, 88, 94, 37, 23, 89, 69, 82, 52, 5, 53, 57, 49, 33, 8, 87, 70, 68, 63, 56, 78, 84, 44, 83, 86, 67, 4, 80, 64, 7, 17, 9, 41, 6, 28, 71, 74, 85, 43, 27, 45, 47, 46, 65, 62, 18, 40, 39, 10, 13, 16, 99, 76, 91, 73, 30, 48, 77, 15, 58, 12, 42, 35, 79, 20, 59, 26, 19, 2, 96, 24, 36, 31, 66, 25, 50, 54, 22, 34, 92, 51, 55, 81]\n",
    "\n",
    "num_set = set(range(1, 101))\n",
    "difference_set = num_set - set(my_list)\n",
    "print(difference_set)"
   ]
  },
  {
   "cell_type": "markdown",
   "metadata": {},
   "source": [
    "Üstteki sorunun bu defa sadece bir elemanının eksik olduğu varsayalım ve o sayının ne olduğunu ekrana basalım"
   ]
  },
  {
   "cell_type": "code",
   "execution_count": 20,
   "metadata": {},
   "outputs": [
    {
     "name": "stdout",
     "output_type": "stream",
     "text": [
      "88\n"
     ]
    }
   ],
   "source": [
    "import random\n",
    "\n",
    "num_list = [i for i in range(1, 101)]\n",
    "num_list.remove(random.randint(0, 100))\n",
    "\n",
    "random.shuffle(num_list)\n",
    "\n",
    "#(n * (n + 1)) / 2 Ardışık n tane sayının toplamını veren formül\n",
    "print(((100 * 101) // 2) - sum(num_list))\n"
   ]
  },
  {
   "cell_type": "markdown",
   "metadata": {},
   "source": [
    "Selection Sort Algoritması"
   ]
  },
  {
   "cell_type": "code",
   "execution_count": 21,
   "metadata": {},
   "outputs": [
    {
     "name": "stdout",
     "output_type": "stream",
     "text": [
      "Listenin sıralanmış hali:  [-98, 1, 2, 3, 4, 5, 6, 7, 8, 9, 10, 12, 13, 15, 16, 17, 18, 19, 20, 22, 23, 24, 25, 26, 27, 28, 30, 31, 33, 34, 35, 36, 37, 38, 39, 40, 41, 42, 43, 44, 45, 46, 47, 48, 49, 50, 51, 52, 53, 54, 55, 56, 57, 58, 59, 60, 62, 63, 64, 65, 66, 67, 68, 69, 70, 71, 72, 73, 74, 75, 76, 77, 78, 79, 80, 81, 82, 83, 84, 85, 86, 87, 88, 89, 91, 92, 93, 94, 95, 96, 97, 99]\n"
     ]
    }
   ],
   "source": [
    "my_list = [38, 3, 93, -98, 60, 97, 95, 1, 75, 72, 88, 94, 37, 23, 89, 69, 82, 52, 5, 53, 57, 49, 33, 8, 87, 70, 68, 63, 56, 78, 84, 44, 83, 86, 67, 4, 80, 64, 7, 17, 9, 41, 6, 28, 71, 74, 85, 43, 27, 45, 47, 46, 65, 62, 18, 40, 39, 10, 13, 16, 99, 76, 91, 73, 30, 48, 77, 15, 58, 12, 42, 35, 79, 20, 59, 26, 19, 2, 96, 24, 36, 31, 66, 25, 50, 54, 22, 34, 92, 51, 55, 81]\n",
    "\n",
    "size = len(my_list)\n",
    "for i in range(size):\n",
    "    min_value = i\n",
    "    for j in range(i + 1, size):\n",
    "        if my_list[j] < my_list[min_value]:\n",
    "            min_value = j\n",
    "\n",
    "    temp = my_list[i]\n",
    "    my_list[i] = my_list[min_value] \n",
    "    my_list[min_value] = temp\n",
    "\n",
    "    #my_list[i], my_list[min_value] = my_list[min_value], my_list[i]\n",
    "\n",
    "print(\"Listenin sıralanmış hali: \", my_list)"
   ]
  },
  {
   "cell_type": "markdown",
   "metadata": {},
   "source": [
    "Elinizde bir liste olsun [1,2,3,3,4,5,6,7,8,9] şeklinde bir şey olsun örneğin. kullanıcıdan bir sayı değeri alacağız. 9 girdiğini düşünelim. Listenin elemanları içinde toplamı 9 olan ardışık sayıları bulan kod blogunu yazmanızı istiyorum. Bu örnek üzerinden ele alacak olursak\n",
    "\n",
    "1+2+3+3 = 9 -> 0. 1. 2. 3. indexlerin toplamı 9 dur\n",
    "\n",
    "2+3+3 = 8 hemen sonraki sayı 4 eklenince 12 olacak o zaman bunlar olmaz. Bir sonraki seriye geçilecek\n",
    "\n",
    "3 9a eşit değil. 3+3=6 9a eşit değil. sonrası sayı da ekleniyor 3+3+4 =10 9a eşit değil bu seri de bozuldu.\n",
    "\n",
    ".. ..\n",
    "\n",
    "4+5 = 9 -> 4 ve 5. indexlerin toplamı 9dur\n",
    "\n",
    "Bu şekilde ardışık olacak şekilde sayıların toplamının kullanıcının girdiği değere eşitse ekrana basmanız gerekiyor"
   ]
  },
  {
   "cell_type": "code",
   "execution_count": 26,
   "metadata": {},
   "outputs": [
    {
     "name": "stdout",
     "output_type": "stream",
     "text": [
      "0, 1, 2, 3\n",
      "4, 5\n",
      "9\n",
      "10, 11\n"
     ]
    }
   ],
   "source": [
    "my_list = [1,2,3,3,4,5,6,7,8,9,1,8]\n",
    "target = 9\n",
    "\n",
    "for i in range(len(my_list)):\n",
    "    total = my_list[i]\n",
    "    text = str(i)\n",
    "\n",
    "    if total != target:\n",
    "       for j in range(i + 1, len(my_list)):\n",
    "            total += my_list[j]\n",
    "            if total == target:\n",
    "                text += \", \" + str(j)\n",
    "                print(text)\n",
    "                break\n",
    "            elif total > target:\n",
    "                break\n",
    "            else:\n",
    "                text += \", \" + str(j)\n",
    "    else:\n",
    "        print(text)"
   ]
  }
 ],
 "metadata": {
  "kernelspec": {
   "display_name": "Python 3.8.5 ('base')",
   "language": "python",
   "name": "python3"
  },
  "language_info": {
   "codemirror_mode": {
    "name": "ipython",
    "version": 3
   },
   "file_extension": ".py",
   "mimetype": "text/x-python",
   "name": "python",
   "nbconvert_exporter": "python",
   "pygments_lexer": "ipython3",
   "version": "3.8.5"
  },
  "orig_nbformat": 4,
  "vscode": {
   "interpreter": {
    "hash": "85849ef95885899d47daeff0f578b9f8af82a26ba4d539bff16a3c227f835db9"
   }
  }
 },
 "nbformat": 4,
 "nbformat_minor": 2
}
