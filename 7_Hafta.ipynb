{
 "cells": [
  {
   "cell_type": "markdown",
   "metadata": {},
   "source": [
    "**Temel Dosya İşlemleri**\n",
    "\n",
    "* Bir dosyayı açma\n",
    "* O dosyadan veriyi okuma\n",
    "* Dosyanın içine veri yazma\n",
    "* Dosyayı kapatma"
   ]
  },
  {
   "cell_type": "markdown",
   "metadata": {},
   "source": [
    "Dosya Oluşturma\n",
    "\n",
    "open(\"dosya_yolu\", \"erişim_modu\")\n",
    "\n",
    "**w** dosyayı yazma amacıyla oluşturur. Bir dosya zaten varsa dosyanın üzerine yazar.\n",
    "\n",
    "**a** Ekleme modunda dosyayı açar ve dosyanın sonuna yeni satırları ekler."
   ]
  },
  {
   "cell_type": "code",
   "execution_count": 2,
   "metadata": {},
   "outputs": [],
   "source": [
    "f = open(\"names.txt\", \"w\")\n",
    "f.write(\"Elvan\")\n",
    "f.close()"
   ]
  },
  {
   "cell_type": "code",
   "execution_count": 6,
   "metadata": {},
   "outputs": [],
   "source": [
    "my_list = [\"Ayşe\", \"Ceyda\", \"Ceren\"]\n",
    "\n",
    "f = open(\"names.txt\", \"a\")\n",
    "for i in my_list:\n",
    "    f.write(i)\n",
    "f.close()"
   ]
  },
  {
   "cell_type": "code",
   "execution_count": 7,
   "metadata": {},
   "outputs": [],
   "source": [
    "my_list = [\"Ayşe\", \"Ceyda\", \"Ceren\"]\n",
    "\n",
    "f = open(\"names.txt\", \"a\")\n",
    "for i in my_list:\n",
    "    f.write(i + \"\\n\")\n",
    "f.close()"
   ]
  }
 ],
 "metadata": {
  "kernelspec": {
   "display_name": "Python 3.8.5 ('base')",
   "language": "python",
   "name": "python3"
  },
  "language_info": {
   "codemirror_mode": {
    "name": "ipython",
    "version": 3
   },
   "file_extension": ".py",
   "mimetype": "text/x-python",
   "name": "python",
   "nbconvert_exporter": "python",
   "pygments_lexer": "ipython3",
   "version": "3.8.5"
  },
  "orig_nbformat": 4,
  "vscode": {
   "interpreter": {
    "hash": "85849ef95885899d47daeff0f578b9f8af82a26ba4d539bff16a3c227f835db9"
   }
  }
 },
 "nbformat": 4,
 "nbformat_minor": 2
}
