{
 "cells": [
  {
   "cell_type": "markdown",
   "metadata": {},
   "source": [
    "**Temel Dosya İşlemleri**\n",
    "\n",
    "* Bir dosyayı açma\n",
    "* O dosyadan veriyi okuma\n",
    "* Dosyanın içine veri yazma\n",
    "* Dosyayı kapatma"
   ]
  },
  {
   "cell_type": "markdown",
   "metadata": {},
   "source": [
    "Dosya Oluşturma\n",
    "\n",
    "open(\"dosya_yolu\", \"erişim_modu\")\n",
    "\n",
    "**w** dosyayı yazma amacıyla oluşturur. Bir dosya zaten varsa dosyanın üzerine yazar.\n",
    "\n",
    "**a** Ekleme modunda dosyayı açar ve dosyanın sonuna yeni satırları ekler."
   ]
  },
  {
   "cell_type": "code",
   "execution_count": 1,
   "metadata": {},
   "outputs": [],
   "source": [
    "f = open(\"names.txt\", \"w\")\n",
    "f.write(\"Elvan\")\n",
    "f.close()"
   ]
  },
  {
   "cell_type": "code",
   "execution_count": 1,
   "metadata": {},
   "outputs": [],
   "source": [
    "my_list = [\"Ayşe\", \"Ceyda\", \"Ceren\"]\n",
    "\n",
    "f = open(\"names.txt\", \"a\")\n",
    "for i in my_list:\n",
    "    f.write(i)\n",
    "f.close()"
   ]
  },
  {
   "cell_type": "code",
   "execution_count": 8,
   "metadata": {},
   "outputs": [],
   "source": [
    "my_list = [\"Ayşe\", \"Ceyda\", \"Ceren\"]\n",
    "\n",
    "f = open(\"names.txt\", \"w\")\n",
    "for i in my_list:\n",
    "    f.write(i + \"\\n\")\n",
    "f.close() "
   ]
  },
  {
   "cell_type": "code",
   "execution_count": 9,
   "metadata": {},
   "outputs": [
    {
     "name": "stdout",
     "output_type": "stream",
     "text": [
      "['.git', '.gitignore', '1_Hafta.ipynb', '2_Hafta.ipynb', '3_Hafta.ipynb', '4_Hafta.ipynb', '5_Hafta.ipynb', '6_Hafta_sorular.ipynb', '7_Hafta.ipynb', 'names.txt', 'participant.py', 'README.md', 'selection_sort.png', '__pycache__']\n",
      "True\n"
     ]
    }
   ],
   "source": [
    "import os \n",
    "\n",
    "print(os.listdir()) #çalışılan dizindeki dosyaları gösterir\n",
    "\n",
    "print(os.path.isfile(\"names.txt\")) #bir dosyanın o dizinde olup olmadığını kontrol eder"
   ]
  },
  {
   "cell_type": "code",
   "execution_count": 11,
   "metadata": {},
   "outputs": [],
   "source": [
    "f = open(r\"C:\\Users\\TCAYSAYDIN\\Desktop\\names.txt\", \"w\")\n",
    "for i in range(10):\n",
    "    f.write(\"Python\\n\")\n",
    "f.close()"
   ]
  },
  {
   "cell_type": "markdown",
   "metadata": {},
   "source": [
    "*with open*"
   ]
  },
  {
   "cell_type": "code",
   "execution_count": 24,
   "metadata": {},
   "outputs": [
    {
     "name": "stdout",
     "output_type": "stream",
     "text": [
      "Tarih  2022-06-22 20:54:56.458493\n",
      "22-06-2022.txt\n",
      "22-06-2022-20-54-56.txt\n"
     ]
    }
   ],
   "source": [
    "from datetime import datetime as dt\n",
    "\n",
    "x = dt.now()\n",
    "print(\"Tarih \", x)\n",
    "\n",
    "#gün ay yıl \n",
    "file_name = x.strftime(\"%d-%m-%Y.txt\")\n",
    "print(file_name)\n",
    "with open(file_name, \"w\") as f:\n",
    "    f.write(\"gün ay yıl şeklinde tanımlama yapılmıştır.\")\n",
    "\n",
    "#gün ay yıl saat dakika saniye\n",
    "file_name2 = x.strftime(\"%d-%m-%Y-%H-%M-%S.txt\")\n",
    "print(file_name2)\n",
    "with open(file_name2, \"w\") as f2:\n",
    "    f2.write(\"gün ay yıl saat dakika saniye şeklinde tanımlanmıştır.\")"
   ]
  },
  {
   "cell_type": "markdown",
   "metadata": {},
   "source": [
    "Dosya Okuma"
   ]
  },
  {
   "cell_type": "code",
   "execution_count": 25,
   "metadata": {},
   "outputs": [
    {
     "name": "stdout",
     "output_type": "stream",
     "text": [
      "Ayşe\n",
      "Ceyda\n",
      "Ceren\n",
      "\n"
     ]
    }
   ],
   "source": [
    "f = open(\"names.txt\", \"r\")\n",
    "print(f.read())\n",
    "f.close()"
   ]
  },
  {
   "cell_type": "code",
   "execution_count": 26,
   "metadata": {},
   "outputs": [
    {
     "ename": "FileNotFoundError",
     "evalue": "[Errno 2] No such file or directory: 'name.txt'",
     "output_type": "error",
     "traceback": [
      "\u001b[1;31m---------------------------------------------------------------------------\u001b[0m",
      "\u001b[1;31mFileNotFoundError\u001b[0m                         Traceback (most recent call last)",
      "\u001b[1;32md:\\Python\\python-egitim\\7_Hafta.ipynb Cell 12'\u001b[0m in \u001b[0;36m<cell line: 1>\u001b[1;34m()\u001b[0m\n\u001b[1;32m----> <a href='vscode-notebook-cell:/d%3A/Python/python-egitim/7_Hafta.ipynb#ch0000011?line=0'>1</a>\u001b[0m f \u001b[39m=\u001b[39m \u001b[39mopen\u001b[39;49m(\u001b[39m\"\u001b[39;49m\u001b[39mname.txt\u001b[39;49m\u001b[39m\"\u001b[39;49m, \u001b[39m\"\u001b[39;49m\u001b[39mr\u001b[39;49m\u001b[39m\"\u001b[39;49m)\n\u001b[0;32m      <a href='vscode-notebook-cell:/d%3A/Python/python-egitim/7_Hafta.ipynb#ch0000011?line=1'>2</a>\u001b[0m \u001b[39mprint\u001b[39m(f\u001b[39m.\u001b[39mread())\n\u001b[0;32m      <a href='vscode-notebook-cell:/d%3A/Python/python-egitim/7_Hafta.ipynb#ch0000011?line=2'>3</a>\u001b[0m f\u001b[39m.\u001b[39mclose()\n",
      "\u001b[1;31mFileNotFoundError\u001b[0m: [Errno 2] No such file or directory: 'name.txt'"
     ]
    }
   ],
   "source": [
    "f = open(\"name.txt\", \"r\")\n",
    "print(f.read())\n",
    "f.close()"
   ]
  },
  {
   "cell_type": "code",
   "execution_count": 27,
   "metadata": {},
   "outputs": [
    {
     "name": "stdout",
     "output_type": "stream",
     "text": [
      "Dosya aranan dizinde bulunamadı\n"
     ]
    }
   ],
   "source": [
    "import os\n",
    "\n",
    "if os.path.exists(\"name.txt\"):\n",
    "    f = open(\"name.txt\", \"r\")\n",
    "    print(f.read())\n",
    "    f.close()\n",
    "else:\n",
    "    print(\"Dosya aranan dizinde bulunamadı\")"
   ]
  },
  {
   "cell_type": "code",
   "execution_count": 29,
   "metadata": {},
   "outputs": [
    {
     "name": "stdout",
     "output_type": "stream",
     "text": [
      "Ayşe\n",
      "Ceyda\n",
      "Ceren\n",
      "\n"
     ]
    }
   ],
   "source": [
    "with open(\"names.txt\", \"r\") as f:\n",
    "    print(f.read())"
   ]
  },
  {
   "cell_type": "markdown",
   "metadata": {},
   "source": [
    "*Dosya Okuma Yöntemleri*\n",
    "\n",
    "readline() -> satır satır okuma işlemi için kullanılır."
   ]
  },
  {
   "cell_type": "code",
   "execution_count": 34,
   "metadata": {},
   "outputs": [
    {
     "name": "stdout",
     "output_type": "stream",
     "text": [
      "Ayşe\n",
      "\n"
     ]
    }
   ],
   "source": [
    "with open(\"names.txt\", \"r\") as f:\n",
    "    line = f.readline() # dosyanın ilk satırını ekrana basar.\n",
    "    print(line)"
   ]
  },
  {
   "cell_type": "code",
   "execution_count": 36,
   "metadata": {},
   "outputs": [
    {
     "name": "stdout",
     "output_type": "stream",
     "text": [
      "Ayşe\n",
      "\n",
      "Ceyda\n",
      "\n",
      "Ceren\n",
      "\n"
     ]
    }
   ],
   "source": [
    "with open(\"names.txt\", \"r\") as f:\n",
    "    lines = f.readlines() # tüm dosyayı okur ve liste döner\n",
    "    for item in lines:\n",
    "        print(item)"
   ]
  },
  {
   "cell_type": "code",
   "execution_count": 37,
   "metadata": {},
   "outputs": [
    {
     "name": "stdout",
     "output_type": "stream",
     "text": [
      "Ayşe\n",
      "Ceyda\n",
      "Ceren\n",
      "\n"
     ]
    },
    {
     "ename": "UnsupportedOperation",
     "evalue": "not writable",
     "output_type": "error",
     "traceback": [
      "\u001b[1;31m---------------------------------------------------------------------------\u001b[0m",
      "\u001b[1;31mUnsupportedOperation\u001b[0m                      Traceback (most recent call last)",
      "\u001b[1;32md:\\Python\\python-egitim\\7_Hafta.ipynb Cell 18'\u001b[0m in \u001b[0;36m<cell line: 1>\u001b[1;34m()\u001b[0m\n\u001b[0;32m      <a href='vscode-notebook-cell:/d%3A/Python/python-egitim/7_Hafta.ipynb#ch0000018?line=0'>1</a>\u001b[0m \u001b[39mwith\u001b[39;00m \u001b[39mopen\u001b[39m(\u001b[39m\"\u001b[39m\u001b[39mnames.txt\u001b[39m\u001b[39m\"\u001b[39m, \u001b[39m\"\u001b[39m\u001b[39mr\u001b[39m\u001b[39m\"\u001b[39m) \u001b[39mas\u001b[39;00m f:\n\u001b[0;32m      <a href='vscode-notebook-cell:/d%3A/Python/python-egitim/7_Hafta.ipynb#ch0000018?line=1'>2</a>\u001b[0m     \u001b[39mprint\u001b[39m(f\u001b[39m.\u001b[39mread())\n\u001b[1;32m----> <a href='vscode-notebook-cell:/d%3A/Python/python-egitim/7_Hafta.ipynb#ch0000018?line=2'>3</a>\u001b[0m     f\u001b[39m.\u001b[39;49mwrite(\u001b[39m\"\u001b[39;49m\u001b[39mNurcan\u001b[39;49m\u001b[39m\\n\u001b[39;49;00m\u001b[39m\"\u001b[39;49m)\n",
      "\u001b[1;31mUnsupportedOperation\u001b[0m: not writable"
     ]
    }
   ],
   "source": [
    "with open(\"names.txt\", \"r\") as f:\n",
    "    print(f.read())\n",
    "    f.write(\"Nurcan\\n\")\n",
    "\n",
    "# Bir dosyayı ne amaçla kullacaksak o erişim modunda açmamız gerekir"
   ]
  },
  {
   "cell_type": "code",
   "execution_count": 38,
   "metadata": {},
   "outputs": [
    {
     "name": "stdout",
     "output_type": "stream",
     "text": [
      "Ayşe\n",
      "Ceyda\n",
      "Ceren\n",
      "\n"
     ]
    }
   ],
   "source": [
    "with open(\"names.txt\", \"r+\") as f:\n",
    "    print(f.read())\n",
    "    f.write(\"Yağmur\\n\")"
   ]
  },
  {
   "cell_type": "code",
   "execution_count": 39,
   "metadata": {},
   "outputs": [
    {
     "name": "stdout",
     "output_type": "stream",
     "text": [
      "Yağmur\n",
      "\n",
      "Ceren\n",
      "\n",
      "Ceyda\n",
      "\n",
      "Ayşe\n",
      "\n"
     ]
    }
   ],
   "source": [
    "#bir dosyayı tersten okuma işlemi\n",
    "with open(\"names.txt\", \"r\") as f:\n",
    "    lines = f.readlines() #bize liste döner\n",
    "    for line in reversed(lines):\n",
    "        print(line)"
   ]
  },
  {
   "cell_type": "markdown",
   "metadata": {},
   "source": [
    "**Dosya Yazma**\n",
    "\n",
    "* w -> Yazmak için bir dosya açar. Mevcut bir dosya varsa onu açar ve üzerine yazarak devam eder. Dosya yoksa da ilgili dizinde önce dosyayı oluşturur sonra yazmaya başlar.\n",
    "* w+ -> Okuma ve yazma amacıyla dosya oluşturur. r+ farkı ilgili dosyanın içeriği silip yazar.\n",
    "* a -> w ile aynı mantıkta sadece ilgili içeriği silmez dosyanın sonuna ekleme yaparak yeni satır ekler.\n",
    "* a+ -> w+ gibi okuma yazma amacıyla kullanılır. w+ farkı dosya mevcutsa içeriğin üzerine yazmaz. Yeni eklenecek veriyi dosyanın sonuna ekleyecek şekilde işlem yapar.\n",
    "* r -> Okuma amaçlı kullanılır.\n",
    "* r+ -> Okuma ve yazma amaçlı. Dosya ilgili dizinde yoksa hata verir. Yeni eklenecek veri dosyanın sonuna eklenir."
   ]
  },
  {
   "cell_type": "code",
   "execution_count": 40,
   "metadata": {},
   "outputs": [],
   "source": [
    "names = [\"Ali\", \"\\nVeli\", \"\\nBuket\"]\n",
    "with open(\"names.txt\", \"w\") as f:\n",
    "    f.writelines(names)"
   ]
  },
  {
   "cell_type": "code",
   "execution_count": 41,
   "metadata": {},
   "outputs": [],
   "source": [
    "names = [\"\\nNurefşan\", \"\\nAli\", \"\\nVeli\", \"\\nBuket\"]\n",
    "with open(\"names.txt\", \"a\") as f:\n",
    "    f.writelines(names)"
   ]
  },
  {
   "cell_type": "markdown",
   "metadata": {},
   "source": [
    "**Dosyada Arama**\n",
    "\n",
    "file.seek(imlec_konumu)\n",
    "\n",
    "* f.seek(8) -> 8 karakter ilerletmiş oluruz imleci\n",
    "* f.seek(0, 2) -> imkeci dosyanın sonuna götürmek için kullanırız\n",
    "* f.seek(4, 1) -> Burada 1 ise dosya işaretçisinin geçerli konumunu koruyarak 4 karakter ilerle"
   ]
  },
  {
   "cell_type": "code",
   "execution_count": 42,
   "metadata": {},
   "outputs": [
    {
     "name": "stdout",
     "output_type": "stream",
     "text": [
      "i\n",
      "Veli\n",
      "Buket\n",
      "Nurefşan\n",
      "Ali\n",
      "Veli\n",
      "Buket\n"
     ]
    }
   ],
   "source": [
    "with open(\"names.txt\", \"r\") as f:\n",
    "    f.seek(2)\n",
    "    print(f.read())"
   ]
  },
  {
   "cell_type": "code",
   "execution_count": 43,
   "metadata": {},
   "outputs": [
    {
     "name": "stdout",
     "output_type": "stream",
     "text": [
      "\n"
     ]
    }
   ],
   "source": [
    "with open(\"names.txt\", \"r\") as f:\n",
    "    f.seek(0, 2)\n",
    "    print(f.read())"
   ]
  },
  {
   "cell_type": "markdown",
   "metadata": {},
   "source": [
    "**Dosyayı yeniden adlandırma**"
   ]
  },
  {
   "cell_type": "code",
   "execution_count": 44,
   "metadata": {},
   "outputs": [],
   "source": [
    "with open(\"namees.txt\", \"w\") as f:\n",
    "    f.write(\"Python\")"
   ]
  },
  {
   "cell_type": "code",
   "execution_count": null,
   "metadata": {},
   "outputs": [],
   "source": [
    "import os\n",
    "\n",
    "os.rename(\"namees.txt\", \"name_list.txt\")\n",
    "#namees.txt dosyasını bulamazsa hata verir"
   ]
  },
  {
   "cell_type": "code",
   "execution_count": 49,
   "metadata": {},
   "outputs": [
    {
     "name": "stdout",
     "output_type": "stream",
     "text": [
      "Dosya bulunamadı\n"
     ]
    }
   ],
   "source": [
    "import os\n",
    "\n",
    "if os.path.exists(\"name_list.txt\"):\n",
    "    os.rename(\"name_list.txt\", \"names_list.txt\")\n",
    "else:\n",
    "    print(\"Dosya bulunamadı\")"
   ]
  },
  {
   "cell_type": "markdown",
   "metadata": {},
   "source": [
    "**Dosya Silme** "
   ]
  },
  {
   "cell_type": "code",
   "execution_count": null,
   "metadata": {},
   "outputs": [],
   "source": [
    "import os\n",
    "\n",
    "os.remove(\"names_list.txt\")"
   ]
  }
 ],
 "metadata": {
  "kernelspec": {
   "display_name": "Python 3.8.5 ('base')",
   "language": "python",
   "name": "python3"
  },
  "language_info": {
   "codemirror_mode": {
    "name": "ipython",
    "version": 3
   },
   "file_extension": ".py",
   "mimetype": "text/x-python",
   "name": "python",
   "nbconvert_exporter": "python",
   "pygments_lexer": "ipython3",
   "version": "3.8.5"
  },
  "orig_nbformat": 4,
  "vscode": {
   "interpreter": {
    "hash": "85849ef95885899d47daeff0f578b9f8af82a26ba4d539bff16a3c227f835db9"
   }
  }
 },
 "nbformat": 4,
 "nbformat_minor": 2
}
