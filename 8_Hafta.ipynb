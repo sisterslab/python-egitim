{
 "cells": [
  {
   "cell_type": "code",
   "execution_count": null,
   "metadata": {},
   "outputs": [],
   "source": [
    "class sinif_adi: #kalıtımın kullanılmadığı durumda parantezsiz\n",
    "    pass"
   ]
  },
  {
   "cell_type": "code",
   "execution_count": null,
   "metadata": {},
   "outputs": [],
   "source": [
    "class sinif_adi(): #kalıtımın kullanıldığı durumda parantezli \n",
    "    pass"
   ]
  },
  {
   "cell_type": "markdown",
   "metadata": {},
   "source": [
    "* class (Sınıf)\n",
    "* object (Nesne)\n",
    "* attributes (Özellik)\n",
    "* metod"
   ]
  },
  {
   "cell_type": "code",
   "execution_count": 1,
   "metadata": {},
   "outputs": [],
   "source": [
    "class Araba:\n",
    "    vites_tipi = \"\"\n",
    "    marka = \"\"\n",
    "    renk = \"\"\n",
    "    plaka = \"\""
   ]
  },
  {
   "cell_type": "code",
   "execution_count": 2,
   "metadata": {},
   "outputs": [],
   "source": [
    "bmw_araba = Araba()\n",
    "bmw_araba.vites_tipi = \"Manuel\"\n",
    "bmw_araba.marka = \"BMW\"\n",
    "bmw_araba.renk = \"Siyah\"\n",
    "bmw_araba.plaka = \"01 AA 34\""
   ]
  },
  {
   "cell_type": "code",
   "execution_count": 6,
   "metadata": {},
   "outputs": [
    {
     "name": "stdout",
     "output_type": "stream",
     "text": [
      "<class '__main__.Araba'>\n",
      "<class 'list'>\n"
     ]
    }
   ],
   "source": [
    "print(type(bmw_araba))\n",
    "\n",
    "my_list = []\n",
    "print(type(my_list))"
   ]
  },
  {
   "cell_type": "code",
   "execution_count": 3,
   "metadata": {},
   "outputs": [
    {
     "name": "stdout",
     "output_type": "stream",
     "text": [
      "01 AA 34\n"
     ]
    }
   ],
   "source": [
    "print(bmw_araba.plaka)"
   ]
  },
  {
   "cell_type": "code",
   "execution_count": 7,
   "metadata": {},
   "outputs": [],
   "source": [
    "audi_araba = Araba()\n",
    "audi_araba.vites_tipi = \"Otomatik\"\n",
    "audi_araba.marka = \"AUDI\"\n",
    "audi_araba.renk = \"Kırmızı\"\n",
    "audi_araba.plaka = \"01 AB 34\""
   ]
  },
  {
   "cell_type": "code",
   "execution_count": 8,
   "metadata": {},
   "outputs": [],
   "source": [
    "class Araba:\n",
    "    vites_tipi = \"\"\n",
    "    marka = \"\"\n",
    "    renk = \"\"\n",
    "    plaka = \"\"\n",
    "    km = 0\n",
    "\n",
    "    def km_yakit(self, km):\n",
    "        self.km += km\n",
    "        return self.km"
   ]
  },
  {
   "cell_type": "code",
   "execution_count": 9,
   "metadata": {},
   "outputs": [],
   "source": [
    "bmw_araba = Araba()\n",
    "bmw_araba.vites_tipi = \"Manuel\"\n",
    "bmw_araba.marka = \"BMW\"\n",
    "bmw_araba.renk = \"Siyah\"\n",
    "bmw_araba.plaka = \"01 AA 34\""
   ]
  },
  {
   "cell_type": "code",
   "execution_count": 12,
   "metadata": {},
   "outputs": [
    {
     "data": {
      "text/plain": [
       "30"
      ]
     },
     "execution_count": 12,
     "metadata": {},
     "output_type": "execute_result"
    }
   ],
   "source": [
    "bmw_araba.km_yakit(20)"
   ]
  },
  {
   "cell_type": "code",
   "execution_count": 13,
   "metadata": {},
   "outputs": [],
   "source": [
    "class Araba:\n",
    "    vites_tipi = \"Otomatik\"\n",
    "    marka = \"AUDI\"\n",
    "    renk = \"Siyah\"\n",
    "    plaka = \"34 AA 01\""
   ]
  },
  {
   "cell_type": "code",
   "execution_count": 17,
   "metadata": {},
   "outputs": [
    {
     "name": "stdout",
     "output_type": "stream",
     "text": [
      "BMW\n"
     ]
    }
   ],
   "source": [
    "araba = Araba()\n",
    "\n",
    "araba.marka = \"BMW\"\n",
    "print(araba.marka)"
   ]
  },
  {
   "cell_type": "markdown",
   "metadata": {},
   "source": [
    "Python __init__ fonksiyonu"
   ]
  },
  {
   "cell_type": "code",
   "execution_count": 24,
   "metadata": {},
   "outputs": [],
   "source": [
    "class Araba:\n",
    "    def __init__(self, vites_tipi, marka, renk, plaka, km):\n",
    "        self.vites_tipi = vites_tipi\n",
    "        self.marka = marka\n",
    "        self.renk = renk\n",
    "        self.plaka = plaka\n",
    "        self.km = km\n",
    "        print(\"__init__ çalıştı\")\n",
    "\n",
    "    def hizArttir(self):\n",
    "        self.km += 10\n",
    "        print(\"Metod çalıştı\")\n",
    "        return self.km\n",
    "\n",
    "    def stop(self):\n",
    "        print(\"Araba durduruldu\")\n"
   ]
  },
  {
   "cell_type": "code",
   "execution_count": 25,
   "metadata": {},
   "outputs": [
    {
     "name": "stdout",
     "output_type": "stream",
     "text": [
      "__init__ çalıştı\n",
      "Metod çalıştı\n",
      "Marka: BMW \n",
      "Renk: Kırmızı\n",
      "Araba durduruldu\n"
     ]
    }
   ],
   "source": [
    "araba = Araba(\"Manuel\", \"BMW\", \"Kırmızı\", \"01 ASD 34\", 10)\n",
    "\n",
    "araba.hizArttir()\n",
    "\n",
    "print(f\"Marka: {araba.marka} \\nRenk: {araba.renk}\")\n",
    "\n",
    "araba.stop()"
   ]
  },
  {
   "cell_type": "markdown",
   "metadata": {},
   "source": [
    "* Encapsulation\n",
    "* Inheritance\n",
    "* Abstract Class\n",
    "* Overriding\n",
    "* Polymorphism"
   ]
  },
  {
   "cell_type": "markdown",
   "metadata": {},
   "source": [
    "Encapsulation - Kapsülleme (Erişimi Engelleme)"
   ]
  },
  {
   "cell_type": "code",
   "execution_count": 34,
   "metadata": {},
   "outputs": [],
   "source": [
    "class Personel:\n",
    "    def __init__(self, isim, sicilno, maas, departman):\n",
    "        self.isim = isim\n",
    "        self.sicilno = sicilno\n",
    "        self.__maas = maas\n",
    "        self.departman = departman\n",
    "\n",
    "    def zam(self):\n",
    "        self.__maas *= 1.5   "
   ]
  },
  {
   "cell_type": "code",
   "execution_count": 35,
   "metadata": {},
   "outputs": [],
   "source": [
    "analist = Personel(\"Merve\", \"TCMERVE\", 10000, \"IT\")\n",
    "\n",
    "analist.zam()"
   ]
  },
  {
   "cell_type": "code",
   "execution_count": 36,
   "metadata": {},
   "outputs": [
    {
     "ename": "AttributeError",
     "evalue": "'Personel' object has no attribute '__maas'",
     "output_type": "error",
     "traceback": [
      "\u001b[1;31m---------------------------------------------------------------------------\u001b[0m",
      "\u001b[1;31mAttributeError\u001b[0m                            Traceback (most recent call last)",
      "\u001b[1;32md:\\Python\\python-egitim\\8-Hafta.ipynb Cell 21'\u001b[0m in \u001b[0;36m<cell line: 1>\u001b[1;34m()\u001b[0m\n\u001b[1;32m----> <a href='vscode-notebook-cell:/d%3A/Python/python-egitim/8-Hafta.ipynb#ch0000022?line=0'>1</a>\u001b[0m \u001b[39mprint\u001b[39m(analist\u001b[39m.\u001b[39;49m__maas)\n",
      "\u001b[1;31mAttributeError\u001b[0m: 'Personel' object has no attribute '__maas'"
     ]
    }
   ],
   "source": [
    "print(analist.__maas)"
   ]
  },
  {
   "cell_type": "markdown",
   "metadata": {},
   "source": [
    "Maaş bilgisine erişmek için ne yapmalı?"
   ]
  },
  {
   "cell_type": "code",
   "execution_count": 37,
   "metadata": {},
   "outputs": [],
   "source": [
    "class Personel:\n",
    "    def __init__(self, isim, sicilno, maas, departman):\n",
    "        self.isim = isim\n",
    "        self.sicilno = sicilno\n",
    "        self.__maas = maas\n",
    "        self.departman = departman\n",
    "\n",
    "    def getMaas(self):\n",
    "        return self.__maas\n",
    "    \n",
    "    def setMaas(self, yeni_maas):\n",
    "        self.__maas = yeni_maas"
   ]
  },
  {
   "cell_type": "code",
   "execution_count": 38,
   "metadata": {},
   "outputs": [
    {
     "data": {
      "text/plain": [
       "10000"
      ]
     },
     "execution_count": 38,
     "metadata": {},
     "output_type": "execute_result"
    }
   ],
   "source": [
    "ik = Personel(\"Merve\", \"TCMERVE\", 10000, \"HR\")\n",
    "\n",
    "ik.getMaas()"
   ]
  },
  {
   "cell_type": "markdown",
   "metadata": {},
   "source": [
    "Metodları gizleme"
   ]
  },
  {
   "cell_type": "code",
   "execution_count": 39,
   "metadata": {},
   "outputs": [],
   "source": [
    "class Personel:\n",
    "    def __init__(self, isim, sicilno, maas, departman):\n",
    "        self.isim = isim\n",
    "        self.sicilno = sicilno\n",
    "        self.__maas = maas\n",
    "        self.departman = departman\n",
    "\n",
    "    def __zam(self):\n",
    "        return self.__maas * 1.3"
   ]
  },
  {
   "cell_type": "code",
   "execution_count": 41,
   "metadata": {},
   "outputs": [
    {
     "ename": "AttributeError",
     "evalue": "'Personel' object has no attribute '__zam'",
     "output_type": "error",
     "traceback": [
      "\u001b[1;31m---------------------------------------------------------------------------\u001b[0m",
      "\u001b[1;31mAttributeError\u001b[0m                            Traceback (most recent call last)",
      "\u001b[1;32md:\\Python\\python-egitim\\8-Hafta.ipynb Cell 27'\u001b[0m in \u001b[0;36m<cell line: 3>\u001b[1;34m()\u001b[0m\n\u001b[0;32m      <a href='vscode-notebook-cell:/d%3A/Python/python-egitim/8-Hafta.ipynb#ch0000028?line=0'>1</a>\u001b[0m tpm \u001b[39m=\u001b[39m Personel(\u001b[39m\"\u001b[39m\u001b[39mMerve\u001b[39m\u001b[39m\"\u001b[39m, \u001b[39m\"\u001b[39m\u001b[39mTVMERVE\u001b[39m\u001b[39m\"\u001b[39m, \u001b[39m12000\u001b[39m, \u001b[39m\"\u001b[39m\u001b[39mIT\u001b[39m\u001b[39m\"\u001b[39m)\n\u001b[1;32m----> <a href='vscode-notebook-cell:/d%3A/Python/python-egitim/8-Hafta.ipynb#ch0000028?line=2'>3</a>\u001b[0m tpm\u001b[39m.\u001b[39;49m__zam()\n",
      "\u001b[1;31mAttributeError\u001b[0m: 'Personel' object has no attribute '__zam'"
     ]
    }
   ],
   "source": [
    "tpm = Personel(\"Merve\", \"TVMERVE\", 12000, \"IT\")\n",
    "\n",
    "tpm.__zam()"
   ]
  },
  {
   "cell_type": "markdown",
   "metadata": {},
   "source": [
    "Inheritance (kalıtım - miras)"
   ]
  },
  {
   "cell_type": "code",
   "execution_count": 69,
   "metadata": {},
   "outputs": [],
   "source": [
    "class Personel:\n",
    "    def __init__(self, isim, sicilno, maas, departman):\n",
    "        self.isim = isim\n",
    "        self.sicilno = sicilno\n",
    "        self.maas = maas\n",
    "        self.departman = departman\n",
    "        print(\"Personel classı oluşturuldu.\")"
   ]
  },
  {
   "cell_type": "code",
   "execution_count": 70,
   "metadata": {},
   "outputs": [],
   "source": [
    "class Ickaynak(Personel):\n",
    "    def __init__(self, isim, sicilno, maas, departman, yanhak):\n",
    "        super().__init__(isim, sicilno, maas, departman)\n",
    "        self.__yanhak = yanhak\n",
    "        print(\"İç kaynak classı oluşturuldu\")\n",
    "    \n",
    "    def getYanHak(self):\n",
    "        return self.__yanhak\n",
    "\n",
    "    def setYanHak(self):\n",
    "        self.__yanhak = False"
   ]
  },
  {
   "cell_type": "code",
   "execution_count": 75,
   "metadata": {},
   "outputs": [],
   "source": [
    "class DisKaynak(Personel):\n",
    "    def __init__(self, isim, sicilno, maas, departman, yanhak):\n",
    "        super().__init__(isim, sicilno, maas, departman)\n",
    "        self.__yanhak = yanhak\n",
    "        print(\"Dış kaynak classı oluşturuldu\")"
   ]
  },
  {
   "cell_type": "code",
   "execution_count": 76,
   "metadata": {},
   "outputs": [
    {
     "name": "stdout",
     "output_type": "stream",
     "text": [
      "Personel classı oluşturuldu.\n",
      "İç kaynak classı oluşturuldu\n",
      "Personel classı oluşturuldu.\n",
      "Dış kaynak classı oluşturuldu\n"
     ]
    }
   ],
   "source": [
    "personel1 = Ickaynak(\"Aysel\", \"TCAYSAYDIN\", 12000, \"ICT\", True)\n",
    "personel2 = DisKaynak(\"Aydın\", \"TCAYSKAS\", 10000, \"ICT\", False)"
   ]
  },
  {
   "cell_type": "code",
   "execution_count": 77,
   "metadata": {},
   "outputs": [
    {
     "ename": "AttributeError",
     "evalue": "'DisKaynak' object has no attribute '__yanhak'",
     "output_type": "error",
     "traceback": [
      "\u001b[1;31m---------------------------------------------------------------------------\u001b[0m",
      "\u001b[1;31mAttributeError\u001b[0m                            Traceback (most recent call last)",
      "\u001b[1;32md:\\Python\\python-egitim\\8-Hafta.ipynb Cell 33'\u001b[0m in \u001b[0;36m<cell line: 3>\u001b[1;34m()\u001b[0m\n\u001b[0;32m      <a href='vscode-notebook-cell:/d%3A/Python/python-egitim/8-Hafta.ipynb#ch0000034?line=0'>1</a>\u001b[0m personel1\u001b[39m.\u001b[39msetYanHak()\n\u001b[1;32m----> <a href='vscode-notebook-cell:/d%3A/Python/python-egitim/8-Hafta.ipynb#ch0000034?line=2'>3</a>\u001b[0m personel2\u001b[39m.\u001b[39;49m__yanhak\n",
      "\u001b[1;31mAttributeError\u001b[0m: 'DisKaynak' object has no attribute '__yanhak'"
     ]
    }
   ],
   "source": [
    "personel1.setYanHak()\n",
    "\n",
    "personel2.__yanhak"
   ]
  },
  {
   "cell_type": "markdown",
   "metadata": {},
   "source": [
    "Abstract Class (Soyut Sınıflar)\n",
    "\n",
    "* Abstract sınıfları miras olarak aldığınızda içerisinde tüm metodları tanımlamak zorundayız. Eğer tanımlamazsak nesne oluştururken hata alırız."
   ]
  },
  {
   "cell_type": "code",
   "execution_count": 84,
   "metadata": {},
   "outputs": [],
   "source": [
    "from abc import ABC, abstractmethod # ABC -> Abstract base class\n",
    "\n",
    "class Personel(ABC):\n",
    "    @abstractmethod\n",
    "    def maas(self):\n",
    "        pass"
   ]
  },
  {
   "cell_type": "code",
   "execution_count": 85,
   "metadata": {},
   "outputs": [],
   "source": [
    "class DisKaynak(Personel):\n",
    "    def maas(self):\n",
    "        return self.maas * 1.1\n",
    "\n",
    "    def yas2(self):\n",
    "        pass"
   ]
  },
  {
   "cell_type": "code",
   "execution_count": 86,
   "metadata": {},
   "outputs": [],
   "source": [
    "ik = DisKaynak()"
   ]
  },
  {
   "cell_type": "markdown",
   "metadata": {},
   "source": [
    "Overriding (Üzerine yazma)"
   ]
  },
  {
   "cell_type": "code",
   "execution_count": 88,
   "metadata": {},
   "outputs": [],
   "source": [
    "class Personel:\n",
    "    def __init__(self, isim, sicilno, maas):\n",
    "        self.isim = isim\n",
    "        self.sicilno = sicilno\n",
    "        self.maas = maas\n",
    "    \n",
    "    def zam(self):\n",
    "        return self.maas * 1.2"
   ]
  },
  {
   "cell_type": "code",
   "execution_count": 89,
   "metadata": {},
   "outputs": [],
   "source": [
    "class Manager(Personel):\n",
    "    def __init__(self, isim, sicilno, maas):\n",
    "        super().__init__(isim, sicilno, maas)\n",
    "\n",
    "    def zam(self):\n",
    "        return self.maas * 1.5"
   ]
  },
  {
   "cell_type": "code",
   "execution_count": 90,
   "metadata": {},
   "outputs": [
    {
     "data": {
      "text/plain": [
       "15000.0"
      ]
     },
     "execution_count": 90,
     "metadata": {},
     "output_type": "execute_result"
    }
   ],
   "source": [
    "personel1 = Manager(\"Sezen\", \"TCSEZEN\", 10000)\n",
    "\n",
    "personel1.zam()"
   ]
  },
  {
   "cell_type": "markdown",
   "metadata": {},
   "source": [
    "Polymorphizm(Çok Biçimlilik)"
   ]
  },
  {
   "cell_type": "code",
   "execution_count": 91,
   "metadata": {},
   "outputs": [],
   "source": [
    "class Personel:\n",
    "    def __init__(self, isim, sicilno, maas):\n",
    "        self.isim = isim\n",
    "        self.sicilno = sicilno\n",
    "        self.maas = maas\n",
    "    \n",
    "    def zam(self):\n",
    "        return self.maas * 1.2"
   ]
  },
  {
   "cell_type": "code",
   "execution_count": 92,
   "metadata": {},
   "outputs": [],
   "source": [
    "class Manager(Personel):\n",
    "    def __init__(self, isim, sicilno, maas):\n",
    "        super().__init__(isim, sicilno, maas)\n",
    "\n",
    "    def zam(self):\n",
    "        return self.maas * 1.5"
   ]
  },
  {
   "cell_type": "code",
   "execution_count": 93,
   "metadata": {},
   "outputs": [],
   "source": [
    "class Analist(Personel):\n",
    "    def __init__(self, isim, sicilno, maas):\n",
    "        super().__init__(isim, sicilno, maas)\n",
    "\n",
    "    def zam(self):\n",
    "        return self.maas * 1.3"
   ]
  },
  {
   "cell_type": "code",
   "execution_count": 94,
   "metadata": {},
   "outputs": [],
   "source": [
    "personel1 = Personel(\"Merve\", \"TCSDSAS\", 10000)\n",
    "personel2 = Manager(\"Merve\", \"TCSDySAyS\", 10000)\n",
    "personel3 = Analist(\"Merve\", \"TCSDtrSAS\", 10000)"
   ]
  },
  {
   "cell_type": "code",
   "execution_count": 96,
   "metadata": {},
   "outputs": [
    {
     "name": "stdout",
     "output_type": "stream",
     "text": [
      "12000.0\n",
      "15000.0\n",
      "13000.0\n"
     ]
    }
   ],
   "source": [
    "print(personel1.zam())\n",
    "print(personel2.zam())\n",
    "print(personel3.zam())"
   ]
  }
 ],
 "metadata": {
  "kernelspec": {
   "display_name": "Python 3.8.5 ('base')",
   "language": "python",
   "name": "python3"
  },
  "language_info": {
   "codemirror_mode": {
    "name": "ipython",
    "version": 3
   },
   "file_extension": ".py",
   "mimetype": "text/x-python",
   "name": "python",
   "nbconvert_exporter": "python",
   "pygments_lexer": "ipython3",
   "version": "3.8.5"
  },
  "orig_nbformat": 4,
  "vscode": {
   "interpreter": {
    "hash": "85849ef95885899d47daeff0f578b9f8af82a26ba4d539bff16a3c227f835db9"
   }
  }
 },
 "nbformat": 4,
 "nbformat_minor": 2
}
