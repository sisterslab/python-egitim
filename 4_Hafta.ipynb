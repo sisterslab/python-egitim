{
 "cells": [
  {
   "cell_type": "markdown",
   "metadata": {},
   "source": [
    "**Lambda**\n",
    "\n",
    "lambda arguments: expression"
   ]
  },
  {
   "cell_type": "code",
   "execution_count": 1,
   "metadata": {},
   "outputs": [
    {
     "name": "stdout",
     "output_type": "stream",
     "text": [
      "20\n"
     ]
    }
   ],
   "source": [
    "#Basitçe aldığı değeri 2 katı olarak dönen bir lambda fonksiyonu\n",
    "\n",
    "double = lambda x: x * 2\n",
    "\n",
    "print(double(10))"
   ]
  },
  {
   "cell_type": "code",
   "execution_count": 2,
   "metadata": {},
   "outputs": [
    {
     "name": "stdout",
     "output_type": "stream",
     "text": [
      "20\n"
     ]
    }
   ],
   "source": [
    "def double(x):\n",
    "    return x*2\n",
    "\n",
    "print(double(10))"
   ]
  },
  {
   "cell_type": "code",
   "execution_count": 4,
   "metadata": {},
   "outputs": [
    {
     "name": "stdout",
     "output_type": "stream",
     "text": [
      "10\n",
      "4\n"
     ]
    }
   ],
   "source": [
    "#default değer alabiliyor\n",
    "double = lambda x = 2:x * 2\n",
    "\n",
    "print(double(5))\n",
    "print(double())"
   ]
  },
  {
   "cell_type": "code",
   "execution_count": 97,
   "metadata": {},
   "outputs": [
    {
     "name": "stdout",
     "output_type": "stream",
     "text": [
      "3\n"
     ]
    }
   ],
   "source": [
    "#lambda ile yapımı\n",
    "max1 = lambda x, y: x if x > y else y\n",
    "\n",
    "'''\n",
    "fonksiyonlar ile yapımı\n",
    "def max1(x, y):\n",
    "    if x > y:\n",
    "        return x\n",
    "    else:\n",
    "        return y\n",
    "'''\n",
    "\n",
    "print(max1(3,2))"
   ]
  },
  {
   "cell_type": "code",
   "execution_count": 8,
   "metadata": {},
   "outputs": [
    {
     "name": "stdout",
     "output_type": "stream",
     "text": [
      "[10, 20, 30, 40]\n"
     ]
    }
   ],
   "source": [
    "my_list = [1, 2, 3, 4]\n",
    "\n",
    "new_list = lambda x: (i * 10 for i in x)\n",
    "\n",
    "print(list(new_list(my_list)))"
   ]
  },
  {
   "cell_type": "code",
   "execution_count": 12,
   "metadata": {},
   "outputs": [
    {
     "name": "stdout",
     "output_type": "stream",
     "text": [
      "<generator object <lambda>.<locals>.<genexpr> at 0x000002815F4A4890>\n"
     ]
    }
   ],
   "source": [
    "my_list = [[2,6,4,1], [7,5,3,9]]\n",
    "\n",
    "sort_list = lambda x: (sorted(i) for i in x)\n",
    "\n",
    "print(list(sort_list(my_list)))"
   ]
  },
  {
   "cell_type": "markdown",
   "metadata": {},
   "source": [
    "filter() ile kullanımı"
   ]
  },
  {
   "cell_type": "code",
   "execution_count": 15,
   "metadata": {},
   "outputs": [
    {
     "name": "stdout",
     "output_type": "stream",
     "text": [
      "[1, 3, 5, 7, 9]\n"
     ]
    }
   ],
   "source": [
    "#bir listenin içerisinde yer alan tek sayıları ekrana basalım\n",
    "\n",
    "my_list = [1,2,3,4,5,6,7,8,9,0]\n",
    "new_list = list(filter(lambda x: x % 2 != 0, my_list))\n",
    "\n",
    "print(new_list)"
   ]
  },
  {
   "cell_type": "markdown",
   "metadata": {},
   "source": [
    "map() ile kullanımı"
   ]
  },
  {
   "cell_type": "code",
   "execution_count": 16,
   "metadata": {},
   "outputs": [
    {
     "name": "stdout",
     "output_type": "stream",
     "text": [
      "[True, False, True, False, True, False, True, False, True, False]\n"
     ]
    }
   ],
   "source": [
    "my_list = [1,2,3,4,5,6,7,8,9,0]\n",
    "\n",
    "new_list = list(map(lambda x: x % 2 != 0, my_list))\n",
    "print(new_list)"
   ]
  },
  {
   "cell_type": "code",
   "execution_count": 17,
   "metadata": {},
   "outputs": [
    {
     "name": "stdout",
     "output_type": "stream",
     "text": [
      "[2, 4, 6, 8, 10, 12, 14, 16, 18, 0]\n"
     ]
    }
   ],
   "source": [
    "my_list = [1,2,3,4,5,6,7,8,9,0]\n",
    "\n",
    "new_list = list(map(lambda x: x * 2, my_list))\n",
    "\n",
    "print(new_list)"
   ]
  },
  {
   "cell_type": "code",
   "execution_count": 20,
   "metadata": {},
   "outputs": [
    {
     "name": "stdout",
     "output_type": "stream",
     "text": [
      "[3, 9, 15]\n"
     ]
    }
   ],
   "source": [
    "#map ile liste içindeki her ilk elemanının 3 katını geri döndürelim \n",
    "A = [[1, 2], [3, 4], [5, 6]]\n",
    "\n",
    "print(list(map(lambda x:x[0]*3, A)))"
   ]
  },
  {
   "cell_type": "code",
   "execution_count": 23,
   "metadata": {},
   "outputs": [
    {
     "name": "stdout",
     "output_type": "stream",
     "text": [
      "[3, 4, 5]\n"
     ]
    }
   ],
   "source": [
    "#Öncelikle filter ile [10,20,30,40,50] listesi 20 den büyük olan listeyi bu.\n",
    "#map ile bu listedeki elemanlar üzerinde integere bölme yapıp 10 a böl\n",
    "\n",
    "new_list = list(map(lambda x: x//10, filter(lambda x: x > 20, [10,20,30,40,50])))\n",
    "print(new_list)"
   ]
  },
  {
   "cell_type": "code",
   "execution_count": 24,
   "metadata": {},
   "outputs": [
    {
     "data": {
      "text/plain": [
       "[20, 10, 30]"
      ]
     },
     "execution_count": 24,
     "metadata": {},
     "output_type": "execute_result"
    }
   ],
   "source": [
    "#karışık tipte bir liste tanımlayalım\n",
    "#liste içerisinde int tipindeki elemanları bulalım\n",
    "\n",
    "my_list = [\"python\", 20, 10, True, 30, \"b\"]\n",
    "list(filter(lambda a:type(a) == int, my_list))"
   ]
  },
  {
   "cell_type": "code",
   "execution_count": 26,
   "metadata": {},
   "outputs": [
    {
     "data": {
      "text/plain": [
       "['ceren', 'ceyda', 'buket']"
      ]
     },
     "execution_count": 26,
     "metadata": {},
     "output_type": "execute_result"
    }
   ],
   "source": [
    "#string tipinde bir liste tanımla\n",
    "#Ardından bunları büyük harfle ekrana bas\n",
    "\n",
    "my_list = [\"Ceren\", \"Ceyda\", \"Buket\"]\n",
    "list(map(lambda x:x.upper(), my_list))"
   ]
  },
  {
   "cell_type": "code",
   "execution_count": 27,
   "metadata": {},
   "outputs": [
    {
     "data": {
      "text/plain": [
       "['Merve', 'Nihal', 'Hilal']"
      ]
     },
     "execution_count": 27,
     "metadata": {},
     "output_type": "execute_result"
    }
   ],
   "source": [
    "#listemizin bu defa ilk harflerini büyük yazdıralım\n",
    "\n",
    "my_list = [\"merve\", \"nihal\", \"hilal\"]\n",
    "list(map(lambda x:x.capitalize(), my_list))"
   ]
  },
  {
   "cell_type": "code",
   "execution_count": 30,
   "metadata": {},
   "outputs": [
    {
     "name": "stdout",
     "output_type": "stream",
     "text": [
      "200\n",
      "0\n",
      "0\n",
      "1\n"
     ]
    }
   ],
   "source": [
    "print(100 and 200)\n",
    "print(1 and 0)\n",
    "print(0 and 1)\n",
    "print(1 or 7)"
   ]
  },
  {
   "cell_type": "markdown",
   "metadata": {},
   "source": [
    "Listelere Devam.."
   ]
  },
  {
   "cell_type": "code",
   "execution_count": 40,
   "metadata": {},
   "outputs": [
    {
     "name": "stdout",
     "output_type": "stream",
     "text": [
      "[1, 2, 4, 5, 7, 9, 10, 12, 17]\n",
      "[1, 0, 0, 0, 7, 9, 10, 12, 17]\n"
     ]
    }
   ],
   "source": [
    "my_list = [1, 2, 4, 5, 7, 9, 10, 12, 17]\n",
    "print(my_list)\n",
    "\n",
    "my_list[1:4] = [0, 0 , 0]\n",
    "print(my_list)"
   ]
  },
  {
   "cell_type": "code",
   "execution_count": 83,
   "metadata": {},
   "outputs": [
    {
     "name": "stdout",
     "output_type": "stream",
     "text": [
      "[1, 2, 4, 5, 0, 0, 0]\n"
     ]
    }
   ],
   "source": [
    "#sondan 3 elemanı tersten olacak şekilde değiştir\n",
    "my_list = [1, 2, 4, 5, 7, 9, 10, 12, 17]\n",
    "my_list[:5:-1] = [0, 0, 0]\n",
    "\n",
    "print(my_list)"
   ]
  },
  {
   "cell_type": "code",
   "execution_count": 46,
   "metadata": {},
   "outputs": [
    {
     "name": "stdout",
     "output_type": "stream",
     "text": [
      "[2, 3, 5, 6, 8, 10, 11, 13, 18]\n"
     ]
    }
   ],
   "source": [
    "my_list = [1, 2, 4, 5, 7, 9, 10, 12, 17]\n",
    "\n",
    "for i in range(0, len(my_list)):\n",
    "    my_list[i] = my_list[i] + 1\n",
    "print(my_list)"
   ]
  },
  {
   "cell_type": "markdown",
   "metadata": {},
   "source": [
    "Listeden eleman silme\n",
    "* remove()\n",
    "* pop()\n",
    "* clear()\n",
    "* del()"
   ]
  },
  {
   "cell_type": "code",
   "execution_count": 49,
   "metadata": {},
   "outputs": [
    {
     "name": "stdout",
     "output_type": "stream",
     "text": [
      "['Burcu', 'Aylin', 12, 'Ceyda', 2022, 'Python', True, 'Python', 12]\n",
      "['Burcu', 'Aylin', 'Ceyda', 2022, 'Python', True, 'Python', 12]\n",
      "['Burcu', 'Ceyda', 2022, 'Python', True, 'Python', 12]\n"
     ]
    }
   ],
   "source": [
    "#remove parametre olarak silinecek elemanı alır ve ilk bulduğu siler\n",
    "\n",
    "my_list = [\"Burcu\", \"Aylin\", 12, \"Ceyda\", 2022, \"Python\", True, \"Python\", 12]\n",
    "print(my_list)\n",
    "\n",
    "my_list.remove(12)\n",
    "print(my_list)\n",
    "\n",
    "my_list.remove(\"Aylin\")\n",
    "print(my_list)"
   ]
  },
  {
   "cell_type": "code",
   "execution_count": 54,
   "metadata": {},
   "outputs": [
    {
     "ename": "ValueError",
     "evalue": "list.remove(x): x not in list",
     "output_type": "error",
     "traceback": [
      "\u001b[1;31m---------------------------------------------------------------------------\u001b[0m",
      "\u001b[1;31mValueError\u001b[0m                                Traceback (most recent call last)",
      "\u001b[1;32md:\\Python\\python-egitim\\4_Hafta.ipynb Cell 26'\u001b[0m in \u001b[0;36m<cell line: 1>\u001b[1;34m()\u001b[0m\n\u001b[1;32m----> <a href='vscode-notebook-cell:/d%3A/Python/python-egitim/4_Hafta.ipynb#ch0000031?line=0'>1</a>\u001b[0m my_list\u001b[39m.\u001b[39;49mremove(\u001b[39m2023\u001b[39;49m)\n",
      "\u001b[1;31mValueError\u001b[0m: list.remove(x): x not in list"
     ]
    }
   ],
   "source": [
    "my_list.remove(2023)"
   ]
  },
  {
   "cell_type": "markdown",
   "metadata": {},
   "source": [
    "pop()\n",
    "Verilen indexteki elemanı silmek için kullanılır"
   ]
  },
  {
   "cell_type": "code",
   "execution_count": 56,
   "metadata": {},
   "outputs": [
    {
     "name": "stdout",
     "output_type": "stream",
     "text": [
      "['Burcu', 'Aylin', 12, 'Ceyda', 2022, 'Python', True, 'Python', 12]\n",
      "['Burcu', 12, 'Ceyda', 2022, 'Python', True, 'Python', 12]\n"
     ]
    }
   ],
   "source": [
    "my_list = [\"Burcu\", \"Aylin\", 12, \"Ceyda\", 2022, \"Python\", True, \"Python\", 12]\n",
    "print(my_list)\n",
    "\n",
    "my_list.pop(1)\n",
    "print(my_list)"
   ]
  },
  {
   "cell_type": "code",
   "execution_count": 58,
   "metadata": {},
   "outputs": [
    {
     "name": "stdout",
     "output_type": "stream",
     "text": [
      "['Burcu', 12, 'Ceyda', 2022, 'Python', True]\n"
     ]
    }
   ],
   "source": [
    "my_list.pop()\n",
    "print(my_list)"
   ]
  },
  {
   "cell_type": "markdown",
   "metadata": {},
   "source": [
    "del() belli aralıktaki elemanları sileriz"
   ]
  },
  {
   "cell_type": "code",
   "execution_count": 60,
   "metadata": {},
   "outputs": [
    {
     "name": "stdout",
     "output_type": "stream",
     "text": [
      "['Burcu', 'Aylin', 12, 'Ceyda', 2022, 'Python', True, 'Python', 12]\n",
      "['Burcu', 2022, 'Python', True, 'Python', 12]\n"
     ]
    }
   ],
   "source": [
    "my_list = [\"Burcu\", \"Aylin\", 12, \"Ceyda\", 2022, \"Python\", True, \"Python\", 12]\n",
    "print(my_list)\n",
    "\n",
    "del my_list[1:4]\n",
    "print(my_list)"
   ]
  },
  {
   "cell_type": "markdown",
   "metadata": {},
   "source": [
    "clear() ile listenin tüm elemanları silinir. Boş liste döner"
   ]
  },
  {
   "cell_type": "code",
   "execution_count": 62,
   "metadata": {},
   "outputs": [
    {
     "name": "stdout",
     "output_type": "stream",
     "text": [
      "[]\n",
      "[23]\n"
     ]
    }
   ],
   "source": [
    "my_list = [\"Burcu\", \"Aylin\", 12, \"Ceyda\", 2022, \"Python\", True, \"Python\", 12]\n",
    "\n",
    "my_list.clear()\n",
    "print(my_list)\n",
    "\n",
    "my_list.append(23)\n",
    "print(my_list)"
   ]
  },
  {
   "cell_type": "code",
   "execution_count": 66,
   "metadata": {},
   "outputs": [
    {
     "name": "stdout",
     "output_type": "stream",
     "text": [
      "[13]\n"
     ]
    }
   ],
   "source": [
    "my_list = [\"Burcu\", \"Aylin\", 12, \"Ceyda\", 2022, \"Python\", True, \"Python\", 12]\n",
    "del my_list\n",
    "\n",
    "my_list = []\n",
    "my_list.append(13)\n",
    "print(my_list)"
   ]
  },
  {
   "cell_type": "code",
   "execution_count": 67,
   "metadata": {},
   "outputs": [
    {
     "name": "stdout",
     "output_type": "stream",
     "text": [
      "3\n"
     ]
    }
   ],
   "source": [
    "#Bir liste içerisinde bir elemanın bulunması\n",
    "my_list = [\"Burcu\", \"Aylin\", 12, \"Ceyda\", 2022, \"Python\", True, \"Python\", 12]\n",
    "\n",
    "print(my_list.index(\"Ceyda\"))"
   ]
  },
  {
   "cell_type": "code",
   "execution_count": 68,
   "metadata": {},
   "outputs": [
    {
     "name": "stdout",
     "output_type": "stream",
     "text": [
      "[1, 2, 3, 4, 5, 6]\n"
     ]
    }
   ],
   "source": [
    "#iki listeyi concat yani birleştirme\n",
    "# + operatörü ya da extend() metodu ile birleştirebiliriz\n",
    "my_list1 = [1,2,3]\n",
    "my_list2 = [4,5,6]\n",
    "\n",
    "my_list3 = my_list1 + my_list2\n",
    "print(my_list3)"
   ]
  },
  {
   "cell_type": "code",
   "execution_count": 69,
   "metadata": {},
   "outputs": [
    {
     "name": "stdout",
     "output_type": "stream",
     "text": [
      "[1, 2, 3, 4, 5, 6]\n"
     ]
    }
   ],
   "source": [
    "my_list1.extend(my_list2)\n",
    "\n",
    "print(my_list1)"
   ]
  },
  {
   "cell_type": "markdown",
   "metadata": {},
   "source": [
    "Bir listenin kopyalanması\n",
    "\n",
    "= operatörü ve copy() metodu ile"
   ]
  },
  {
   "cell_type": "code",
   "execution_count": 79,
   "metadata": {},
   "outputs": [
    {
     "name": "stdout",
     "output_type": "stream",
     "text": [
      "[1, 2, 3]\n",
      "[1, 2, 3, 4]\n",
      "[1, 2, 3, 4, 6]\n"
     ]
    }
   ],
   "source": [
    "my_list1 = [1,2,3]\n",
    "new_list = my_list1\n",
    "print(new_list)\n",
    "\n",
    "my_list1.append(4)\n",
    "print(new_list)\n",
    "\n",
    "new_list.append(6)\n",
    "print(my_list1)"
   ]
  },
  {
   "cell_type": "markdown",
   "metadata": {},
   "source": [
    "copy()"
   ]
  },
  {
   "cell_type": "code",
   "execution_count": 87,
   "metadata": {},
   "outputs": [
    {
     "name": "stdout",
     "output_type": "stream",
     "text": [
      "[1, 2, 3]\n",
      "[1, 2, 3]\n",
      "[1, 2, 3]\n",
      "[1, 2, 3, 4]\n",
      "[1, 2, 3, 5]\n",
      "[1, 2, 3, 4]\n"
     ]
    }
   ],
   "source": [
    "my_list1 = [1,2,3]\n",
    "new_list = my_list1.copy()\n",
    "print(new_list)\n",
    "print(my_list1)\n",
    "\n",
    "my_list1.append(4)\n",
    "print(new_list)\n",
    "print(my_list1)\n",
    "\n",
    "new_list.append(5)\n",
    "print(new_list)\n",
    "print(my_list1)"
   ]
  },
  {
   "cell_type": "markdown",
   "metadata": {},
   "source": [
    "Bir liste üzerinde işlem yapabileceğimiz metodlar\n",
    "\n",
    "* sort\n",
    "* reverse\n",
    "* max, min\n",
    "* sum"
   ]
  },
  {
   "cell_type": "code",
   "execution_count": 1,
   "metadata": {},
   "outputs": [
    {
     "name": "stdout",
     "output_type": "stream",
     "text": [
      "Listenin sıralanmış hali:  [1, 3, 4, 7, 9]\n",
      "Listenin tersten sıralanmış hali:  [9, 7, 4, 3, 1]\n",
      "Listedeki max eleman:  9\n",
      "Listenin min. elemanı:  1\n",
      "Listenin toplamı:  24\n"
     ]
    }
   ],
   "source": [
    "my_list = [1,4,7,3,9]\n",
    "my_list.sort()\n",
    "print(\"Listenin sıralanmış hali: \", my_list)\n",
    "\n",
    "my_list.reverse()\n",
    "print(\"Listenin tersten sıralanmış hali: \", my_list)\n",
    "\n",
    "print(\"Listedeki max eleman: \", max(my_list))\n",
    "print(\"Listenin min. elemanı: \", min(my_list))\n",
    "print(\"Listenin toplamı: \", sum(my_list))\n"
   ]
  },
  {
   "cell_type": "markdown",
   "metadata": {},
   "source": [
    "İç içe listeler"
   ]
  },
  {
   "cell_type": "code",
   "execution_count": 3,
   "metadata": {},
   "outputs": [
    {
     "name": "stdout",
     "output_type": "stream",
     "text": [
      "['AI & ML Engineer', 'Android Developer', 'Software Developer']\n",
      "AI & ML Engineer\n"
     ]
    }
   ],
   "source": [
    "my_list = [\"Aysel\", \"Aydin\", 2022, [\"AI & ML Engineer\", \"Android Developer\", \"Software Developer\"], 12, \"Aydin\"]\n",
    "\n",
    "print(my_list[3])\n",
    "print(my_list[3][0])"
   ]
  },
  {
   "cell_type": "code",
   "execution_count": 20,
   "metadata": {},
   "outputs": [
    {
     "name": "stdout",
     "output_type": "stream",
     "text": [
      "Bir sonraki talihlimiz:  Sema\n"
     ]
    }
   ],
   "source": [
    "import random\n",
    "\n",
    "#Katılımcı listesi içerisinden random bir değer ile o indexteki arkadaşı ekrana getir\n",
    "participant = [\"Ceren\", \"Selin\", \"Elif Naz\", \"İlkay\", \"Nurdan\", \"Ayça\", \"Ayşe Beril\", \"Begüm\", \"Bilge\", \"Nurcan\", \"Burcu\", \"Elvan\", \"idil\", \"Sevda\", \"Nurefşan\", \"Işınsu\", \"Ayşe Aktağ\", \"Elif Çelik\", \"Aylin\", \"Buket\", \"Ceydanur\", \"Fadime\", \"Sema\", \"İlayda\", \"Yağmur\"]\n",
    "\n",
    "value = random.randint(0, len(participant) - 1)\n",
    "\n",
    "print(\"Bir sonraki talihlimiz: \", participant[value])"
   ]
  },
  {
   "cell_type": "code",
   "execution_count": 10,
   "metadata": {},
   "outputs": [
    {
     "name": "stdout",
     "output_type": "stream",
     "text": [
      "[1, 2, 6, 4, 5, 6, 7, 8, 6]\n",
      "[1, 2, 6, 7, 4, 5, 6, 7, 7, 8, 6, 7]\n"
     ]
    }
   ],
   "source": [
    "#Listede 6 değerleri sonrası listeye 7 elemanını ekleyen kod blogunu yazalım\n",
    "\n",
    "my_list = [1,2,6,4,5,6,7,8,6]\n",
    "new_list = []\n",
    "\n",
    "for i in my_list:\n",
    "    new_list.append(i)\n",
    "    if i == 6:\n",
    "        new_list.append(7)\n",
    "\n",
    "print(my_list)\n",
    "print(new_list)\n"
   ]
  },
  {
   "cell_type": "code",
   "execution_count": 3,
   "metadata": {},
   "outputs": [
    {
     "name": "stdout",
     "output_type": "stream",
     "text": [
      "0 index [1, 2, 6, 4, 5, 6, 7, 6, 6]\n",
      "1 index [1, 2, 6, 4, 5, 6, 7, 6, 6]\n",
      "2 index [1, 2, 6, 4, 5, 6, 7, 6, 6]\n",
      "3 index [1, 2, 6, 7, 4, 5, 6, 7, 6, 6]\n",
      "4 index [1, 2, 6, 7, 4, 5, 6, 7, 6, 6]\n",
      "5 index [1, 2, 6, 7, 4, 5, 6, 7, 6, 6]\n",
      "6 index [1, 2, 6, 7, 4, 5, 6, 7, 6, 6]\n",
      "7 index [1, 2, 6, 7, 4, 5, 6, 7, 7, 6, 6]\n",
      "8 index [1, 2, 6, 7, 4, 5, 6, 7, 7, 6, 6]\n",
      "[1, 2, 6, 7, 4, 5, 6, 7, 7, 6, 6]\n"
     ]
    }
   ],
   "source": [
    "liste = [1,2,6,4,5,6,7,6,6]\n",
    "\n",
    "for i in range(len(liste)):\n",
    "    print(f\"{i} index {liste}\")\n",
    "    if liste[i] == 6:\n",
    "        liste.insert(i+1, 7)\n",
    "\n",
    "print(liste)"
   ]
  },
  {
   "cell_type": "code",
   "execution_count": 26,
   "metadata": {},
   "outputs": [
    {
     "name": "stdout",
     "output_type": "stream",
     "text": [
      "[1, 2, 3, 4, 5, 6]\n",
      "[4, 16, 36]\n"
     ]
    }
   ],
   "source": [
    "#bir liste içerisindeki çift sayıların kareleriyle o değerleri değiştirin\n",
    "\n",
    "my_list = [1, 2, 3, 4, 5, 6]\n",
    "new_list = []\n",
    "\n",
    "for i in liste:\n",
    "  if i % 2 == 0:\n",
    "    new_list.append(i**2)\n",
    "print(my_list)\n",
    "print(new_list)"
   ]
  },
  {
   "cell_type": "code",
   "execution_count": 27,
   "metadata": {},
   "outputs": [
    {
     "name": "stdout",
     "output_type": "stream",
     "text": [
      "[1, 2, 3, 4, 5, 6]\n",
      "[1, 4, 3, 16, 5, 36]\n"
     ]
    }
   ],
   "source": [
    "my_list = [1, 2, 3, 4, 5, 6]\n",
    "print(my_list)\n",
    "\n",
    "for index, value in enumerate(my_list):\n",
    "  if value % 2 == 0:\n",
    "      my_list[index] = value**2\n",
    "    \n",
    "print(my_list)"
   ]
  },
  {
   "cell_type": "code",
   "execution_count": 38,
   "metadata": {},
   "outputs": [
    {
     "name": "stdout",
     "output_type": "stream",
     "text": [
      "['Aysel', 'Aydin', 2022, ['AI & ML Engineer', 'Android Developer', 'Software Developer'], 12, 'Aydin']\n"
     ]
    }
   ],
   "source": [
    "my_list = [\"Aysel\", \"Aydin\", 2022, [\"AI & ML Engineer\"], 12, \"Aydin\"]\n",
    "title = [\"Android Developer\", \"Software Developer\"]\n",
    "\n",
    "my_list[3].extend(title)\n",
    "print(my_list)"
   ]
  },
  {
   "cell_type": "code",
   "execution_count": 44,
   "metadata": {},
   "outputs": [
    {
     "name": "stdout",
     "output_type": "stream",
     "text": [
      "[1, 2, 3, 4, 6, 7, 8]\n"
     ]
    }
   ],
   "source": [
    "#bir liste içerisindeki duplicate olan değerleri temizleyelim\n",
    "my_list = [1,2,3,4,1,2,7,6,8,2]\n",
    "unique_list = []\n",
    "\n",
    "for i in my_list:\n",
    "    if i not in unique_list:\n",
    "        unique_list.append(i)\n",
    "        \n",
    "unique_list.sort()\n",
    "print(unique_list)"
   ]
  },
  {
   "cell_type": "code",
   "execution_count": 46,
   "metadata": {},
   "outputs": [
    {
     "name": "stdout",
     "output_type": "stream",
     "text": [
      "['Sisterslab', 'women', 'akademimiz', 'hızıyla', 'devam', 'etmektedir']\n"
     ]
    }
   ],
   "source": [
    "# text içerisinde uzunluğu dörtten büyük olan kelimelerden oluşan bir liste oluşturalım\n",
    "#split(\" \")\n",
    "text = \"Sisterslab women in tech akademimiz tüm hızıyla devam etmektedir\"\n",
    "word_list = []\n",
    "\n",
    "for i in text.split(\" \"):\n",
    "    if len(i) > 4:\n",
    "        word_list.append(i)\n",
    "\n",
    "print(word_list)"
   ]
  },
  {
   "cell_type": "markdown",
   "metadata": {},
   "source": [
    "Tuple\n",
    "\n",
    "* index ile erişilebilir, ordered yani sıralıdır.\n",
    "* Tuple'lar değiştirilemez yani oluşturulduktan sonra öğe eklenemez ya da silinemez.\n",
    "* () parantez içerisinde tanımlanır, elemanlar virgüllerle ayrılır.\n",
    "* Farklı tipte veri içerebilir.\n",
    "* Aynı değere sahip iki öğeye sahip olabilir. Duplicate veri olabilir."
   ]
  },
  {
   "cell_type": "code",
   "execution_count": 48,
   "metadata": {},
   "outputs": [
    {
     "name": "stdout",
     "output_type": "stream",
     "text": [
      "('Merve', 303, True, [1, 2, 3])\n"
     ]
    }
   ],
   "source": [
    "int_tuple = (1,2,3,4)\n",
    "string_tuple = (\"Ayşe\", \"Nurefşan\", \"Ayça\")\n",
    "mix_tuple = (\"Merve\", 303, True, [1,2,3])\n",
    "print(mix_tuple)"
   ]
  },
  {
   "cell_type": "code",
   "execution_count": 49,
   "metadata": {},
   "outputs": [
    {
     "name": "stdout",
     "output_type": "stream",
     "text": [
      "<class 'tuple'>\n"
     ]
    }
   ],
   "source": [
    "my_tuple = \"Merve\", 2022, True\n",
    "\n",
    "print(type(my_tuple))"
   ]
  },
  {
   "cell_type": "code",
   "execution_count": 50,
   "metadata": {},
   "outputs": [
    {
     "name": "stdout",
     "output_type": "stream",
     "text": [
      "Merve 293 True\n"
     ]
    }
   ],
   "source": [
    "name, year, male = my_tuple\n",
    "print(name, year, male)"
   ]
  },
  {
   "cell_type": "code",
   "execution_count": 51,
   "metadata": {},
   "outputs": [
    {
     "name": "stdout",
     "output_type": "stream",
     "text": [
      "3\n"
     ]
    }
   ],
   "source": [
    "print(len(my_tuple))"
   ]
  },
  {
   "cell_type": "code",
   "execution_count": 52,
   "metadata": {},
   "outputs": [
    {
     "name": "stdout",
     "output_type": "stream",
     "text": [
      "Merve\n",
      "293\n",
      "True\n"
     ]
    }
   ],
   "source": [
    "for item in my_tuple:\n",
    "    print(item)"
   ]
  },
  {
   "cell_type": "code",
   "execution_count": 53,
   "metadata": {},
   "outputs": [
    {
     "name": "stdout",
     "output_type": "stream",
     "text": [
      "P\n",
      "Y\n",
      "T\n",
      "H\n",
      "O\n",
      "N\n"
     ]
    }
   ],
   "source": [
    "my_tuple = ('P', 'Y', 'T', 'H', 'O', 'N')\n",
    "for i in range(len(my_tuple)):\n",
    "    print(my_tuple[i])"
   ]
  },
  {
   "cell_type": "code",
   "execution_count": 54,
   "metadata": {},
   "outputs": [
    {
     "ename": "IndexError",
     "evalue": "tuple index out of range",
     "output_type": "error",
     "traceback": [
      "\u001b[1;31m---------------------------------------------------------------------------\u001b[0m",
      "\u001b[1;31mIndexError\u001b[0m                                Traceback (most recent call last)",
      "\u001b[1;32md:\\Python\\python-egitim\\4_Hafta.ipynb Cell 60'\u001b[0m in \u001b[0;36m<cell line: 1>\u001b[1;34m()\u001b[0m\n\u001b[1;32m----> <a href='vscode-notebook-cell:/d%3A/Python/python-egitim/4_Hafta.ipynb#ch0000070?line=0'>1</a>\u001b[0m my_tuple[\u001b[39m9\u001b[39;49m]\n",
      "\u001b[1;31mIndexError\u001b[0m: tuple index out of range"
     ]
    }
   ],
   "source": [
    "my_tuple[9]"
   ]
  },
  {
   "cell_type": "code",
   "execution_count": 55,
   "metadata": {},
   "outputs": [
    {
     "name": "stdout",
     "output_type": "stream",
     "text": [
      "N\n"
     ]
    }
   ],
   "source": [
    "print(my_tuple[-1])"
   ]
  },
  {
   "cell_type": "code",
   "execution_count": 58,
   "metadata": {},
   "outputs": [
    {
     "name": "stdout",
     "output_type": "stream",
     "text": [
      "(0, 1, 2, 3, 4)\n"
     ]
    }
   ],
   "source": [
    "my_tuple = (0,1,2,3,4,5,6,7,8,9)\n",
    "\n",
    "print(my_tuple[:5])"
   ]
  },
  {
   "cell_type": "code",
   "execution_count": null,
   "metadata": {},
   "outputs": [],
   "source": [
    "my_tuple = () #boş tuple"
   ]
  },
  {
   "cell_type": "code",
   "execution_count": 59,
   "metadata": {},
   "outputs": [
    {
     "name": "stdout",
     "output_type": "stream",
     "text": [
      "1\n"
     ]
    }
   ],
   "source": [
    "my_tuple = (\"Ali\", \"Veli\", \"Derya\")\n",
    "\n",
    "print(my_tuple.index(\"Veli\"))"
   ]
  },
  {
   "cell_type": "code",
   "execution_count": 60,
   "metadata": {},
   "outputs": [
    {
     "name": "stdout",
     "output_type": "stream",
     "text": [
      "5\n"
     ]
    }
   ],
   "source": [
    "my_tuple = (1,2,3,4,1,2,7,6,8,2)\n",
    "\n",
    "print(my_tuple.index(2, 4, 7)) #2 değerini 4 ve 7 indexleri arasında arar"
   ]
  },
  {
   "cell_type": "code",
   "execution_count": 61,
   "metadata": {},
   "outputs": [
    {
     "ename": "ValueError",
     "evalue": "tuple.index(x): x not in tuple",
     "output_type": "error",
     "traceback": [
      "\u001b[1;31m---------------------------------------------------------------------------\u001b[0m",
      "\u001b[1;31mValueError\u001b[0m                                Traceback (most recent call last)",
      "\u001b[1;32md:\\Python\\python-egitim\\4_Hafta.ipynb Cell 66'\u001b[0m in \u001b[0;36m<cell line: 1>\u001b[1;34m()\u001b[0m\n\u001b[1;32m----> <a href='vscode-notebook-cell:/d%3A/Python/python-egitim/4_Hafta.ipynb#ch0000077?line=0'>1</a>\u001b[0m \u001b[39mprint\u001b[39m(my_tuple\u001b[39m.\u001b[39;49mindex(\u001b[39m9\u001b[39;49m, \u001b[39m4\u001b[39;49m, \u001b[39m7\u001b[39;49m))\n",
      "\u001b[1;31mValueError\u001b[0m: tuple.index(x): x not in tuple"
     ]
    }
   ],
   "source": [
    "print(my_tuple.index(9, 4, 7))"
   ]
  },
  {
   "cell_type": "code",
   "execution_count": 62,
   "metadata": {},
   "outputs": [
    {
     "name": "stdout",
     "output_type": "stream",
     "text": [
      "9 elemanı tuple içerisinde yer almıyor\n"
     ]
    }
   ],
   "source": [
    "my_tuple = (1,2,3,4,1,2,7,6,8,2)\n",
    "\n",
    "if 9 in my_tuple:\n",
    "    print(my_tuple.index(9, 4, 7))\n",
    "else: print(\"9 elemanı tuple içerisinde yer almıyor\")"
   ]
  },
  {
   "cell_type": "code",
   "execution_count": 63,
   "metadata": {},
   "outputs": [
    {
     "ename": "TypeError",
     "evalue": "'tuple' object does not support item assignment",
     "output_type": "error",
     "traceback": [
      "\u001b[1;31m---------------------------------------------------------------------------\u001b[0m",
      "\u001b[1;31mTypeError\u001b[0m                                 Traceback (most recent call last)",
      "\u001b[1;32md:\\Python\\python-egitim\\4_Hafta.ipynb Cell 69'\u001b[0m in \u001b[0;36m<cell line: 1>\u001b[1;34m()\u001b[0m\n\u001b[1;32m----> <a href='vscode-notebook-cell:/d%3A/Python/python-egitim/4_Hafta.ipynb#ch0000081?line=0'>1</a>\u001b[0m my_tuple[\u001b[39m0\u001b[39m] \u001b[39m=\u001b[39m \u001b[39m7\u001b[39m\n",
      "\u001b[1;31mTypeError\u001b[0m: 'tuple' object does not support item assignment"
     ]
    }
   ],
   "source": [
    "my_tuple[0] = 7"
   ]
  },
  {
   "cell_type": "code",
   "execution_count": 1,
   "metadata": {},
   "outputs": [
    {
     "name": "stdout",
     "output_type": "stream",
     "text": [
      "Şu anki type:  <class 'tuple'>\n",
      "Şu anki type:  <class 'list'>\n",
      "Şu anki type:  <class 'tuple'>\n",
      "(1, 3, 5, 7, 9)\n"
     ]
    }
   ],
   "source": [
    "my_tuple = (1, 3, 5, 7)\n",
    "print(\"Şu anki type: \", type(my_tuple))\n",
    "\n",
    "temp_list = list(my_tuple)\n",
    "print(\"Şu anki type: \", type(temp_list))\n",
    "\n",
    "temp_list.append(9)\n",
    "\n",
    "my_tuple = tuple(temp_list)\n",
    "print(\"Şu anki type: \", type(my_tuple))\n",
    "print(my_tuple)"
   ]
  },
  {
   "cell_type": "code",
   "execution_count": 5,
   "metadata": {},
   "outputs": [
    {
     "name": "stdout",
     "output_type": "stream",
     "text": [
      "('Merve', 303, True, [8, 2, 3])\n"
     ]
    }
   ],
   "source": [
    "mix_tuple = (\"Merve\", 303, True, [1,2,3])\n",
    "\n",
    "mix_tuple[3][0] = 8\n",
    "\n",
    "print(mix_tuple)"
   ]
  },
  {
   "cell_type": "code",
   "execution_count": 7,
   "metadata": {},
   "outputs": [
    {
     "name": "stdout",
     "output_type": "stream",
     "text": [
      "(1, 2, 3, 4)\n",
      "(1, 2, 4)\n"
     ]
    }
   ],
   "source": [
    "my_tuple = (1,2,3,4)\n",
    "print(my_tuple)\n",
    "\n",
    "temp_list = list(my_tuple)\n",
    "temp_list.remove(3)\n",
    "\n",
    "my_tuple = tuple(temp_list)\n",
    "print(my_tuple)"
   ]
  },
  {
   "cell_type": "markdown",
   "metadata": {},
   "source": [
    "Tuple Kopyalama"
   ]
  },
  {
   "cell_type": "code",
   "execution_count": 9,
   "metadata": {},
   "outputs": [
    {
     "name": "stdout",
     "output_type": "stream",
     "text": [
      "(1, 2, 4)\n"
     ]
    }
   ],
   "source": [
    "my_tuple2 = my_tuple\n",
    "\n",
    "print(my_tuple2)"
   ]
  },
  {
   "cell_type": "code",
   "execution_count": 10,
   "metadata": {},
   "outputs": [
    {
     "name": "stdout",
     "output_type": "stream",
     "text": [
      "(1, 2, 4, 1, 2, 4)\n"
     ]
    }
   ],
   "source": [
    "tuple3 = my_tuple2 + my_tuple\n",
    "\n",
    "print(tuple3)"
   ]
  },
  {
   "cell_type": "code",
   "execution_count": 5,
   "metadata": {},
   "outputs": [
    {
     "name": "stdout",
     "output_type": "stream",
     "text": [
      "<class 'str'>\n",
      "<class 'tuple'>\n"
     ]
    }
   ],
   "source": [
    "my_tuple = (\"Aysel\")\n",
    "my_tuple1 = (\"Aysel\",)\n",
    "\n",
    "print(type(my_tuple))\n",
    "print(type(my_tuple1))"
   ]
  }
 ],
 "metadata": {
  "interpreter": {
   "hash": "85849ef95885899d47daeff0f578b9f8af82a26ba4d539bff16a3c227f835db9"
  },
  "kernelspec": {
   "display_name": "Python 3.8.5 ('base')",
   "language": "python",
   "name": "python3"
  },
  "language_info": {
   "codemirror_mode": {
    "name": "ipython",
    "version": 3
   },
   "file_extension": ".py",
   "mimetype": "text/x-python",
   "name": "python",
   "nbconvert_exporter": "python",
   "pygments_lexer": "ipython3",
   "version": "3.8.5"
  },
  "orig_nbformat": 4
 },
 "nbformat": 4,
 "nbformat_minor": 2
}
